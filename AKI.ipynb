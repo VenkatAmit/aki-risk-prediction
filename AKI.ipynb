{
  "nbformat": 4,
  "nbformat_minor": 0,
  "metadata": {
    "colab": {
      "provenance": []
    },
    "kernelspec": {
      "name": "python3",
      "display_name": "Python 3"
    },
    "language_info": {
      "name": "python"
    }
  },
  "cells": [
    {
      "cell_type": "code",
      "execution_count": 1,
      "metadata": {
        "id": "rzLE102TaZn6"
      },
      "outputs": [],
      "source": [
        "import pandas as pd\n",
        "import seaborn as sns\n",
        "import numpy as np\n",
        "import matplotlib.pyplot as plt"
      ]
    },
    {
      "cell_type": "code",
      "source": [
        "df = pd.read_csv('/content/Final_population_combined_CR_values.csv')\n",
        "df.head()"
      ],
      "metadata": {
        "colab": {
          "base_uri": "https://localhost:8080/",
          "height": 308
        },
        "id": "Cq0ojxRGcqt6",
        "outputId": "6af937a0-9cc0-4d8f-b89d-08d055fe8c82"
      },
      "execution_count": 4,
      "outputs": [
        {
          "output_type": "execute_result",
          "data": {
            "text/plain": [
              "   subject_id  hadm_id  icustay_id gender  age               ethnicity  \\\n",
              "0        6321   171988      244279      M   31  BLACK/AFRICAN AMERICAN   \n",
              "1        5772   133327      225689      F   57                   WHITE   \n",
              "2       11242   116244      262657      F   39   UNKNOWN/NOT SPECIFIED   \n",
              "3        3084   152571      206423      F   50                   WHITE   \n",
              "4       20312   189515      298077      M   62  BLACK/AFRICAN AMERICAN   \n",
              "\n",
              "   weight   height  dm_type complications  ... saps_ii  oasis  sofa  gcs_eyes  \\\n",
              "0     NaN      NaN     T1DM           NaN  ...       6     14     0       NaN   \n",
              "1     NaN  163.576     T1DM           NaN  ...      13     17     0       NaN   \n",
              "2     NaN  160.020     T1DM           NaN  ...       6     14     0       NaN   \n",
              "3     NaN      NaN  Unknown           NaN  ...      13     14     0       NaN   \n",
              "4     NaN  177.800     T2DM           NaN  ...      18     17     0       NaN   \n",
              "\n",
              "   gcs_motor  gcs_verbal  infusion_volume  total_urine_output  \\\n",
              "0        NaN         NaN              NaN                 NaN   \n",
              "1        NaN         NaN              NaN                 NaN   \n",
              "2        NaN         NaN              NaN                 NaN   \n",
              "3        NaN         NaN              NaN                 NaN   \n",
              "4        NaN         NaN              NaN                 NaN   \n",
              "\n",
              "   creatinine_48hrs  creatinine_7days  \n",
              "0               NaN               NaN  \n",
              "1               NaN               NaN  \n",
              "2               NaN               NaN  \n",
              "3               NaN               NaN  \n",
              "4               NaN               NaN  \n",
              "\n",
              "[5 rows x 37 columns]"
            ],
            "text/html": [
              "\n",
              "  <div id=\"df-bac67a97-a56d-4d7e-96a0-77e59d969b3f\" class=\"colab-df-container\">\n",
              "    <div>\n",
              "<style scoped>\n",
              "    .dataframe tbody tr th:only-of-type {\n",
              "        vertical-align: middle;\n",
              "    }\n",
              "\n",
              "    .dataframe tbody tr th {\n",
              "        vertical-align: top;\n",
              "    }\n",
              "\n",
              "    .dataframe thead th {\n",
              "        text-align: right;\n",
              "    }\n",
              "</style>\n",
              "<table border=\"1\" class=\"dataframe\">\n",
              "  <thead>\n",
              "    <tr style=\"text-align: right;\">\n",
              "      <th></th>\n",
              "      <th>subject_id</th>\n",
              "      <th>hadm_id</th>\n",
              "      <th>icustay_id</th>\n",
              "      <th>gender</th>\n",
              "      <th>age</th>\n",
              "      <th>ethnicity</th>\n",
              "      <th>weight</th>\n",
              "      <th>height</th>\n",
              "      <th>dm_type</th>\n",
              "      <th>complications</th>\n",
              "      <th>...</th>\n",
              "      <th>saps_ii</th>\n",
              "      <th>oasis</th>\n",
              "      <th>sofa</th>\n",
              "      <th>gcs_eyes</th>\n",
              "      <th>gcs_motor</th>\n",
              "      <th>gcs_verbal</th>\n",
              "      <th>infusion_volume</th>\n",
              "      <th>total_urine_output</th>\n",
              "      <th>creatinine_48hrs</th>\n",
              "      <th>creatinine_7days</th>\n",
              "    </tr>\n",
              "  </thead>\n",
              "  <tbody>\n",
              "    <tr>\n",
              "      <th>0</th>\n",
              "      <td>6321</td>\n",
              "      <td>171988</td>\n",
              "      <td>244279</td>\n",
              "      <td>M</td>\n",
              "      <td>31</td>\n",
              "      <td>BLACK/AFRICAN AMERICAN</td>\n",
              "      <td>NaN</td>\n",
              "      <td>NaN</td>\n",
              "      <td>T1DM</td>\n",
              "      <td>NaN</td>\n",
              "      <td>...</td>\n",
              "      <td>6</td>\n",
              "      <td>14</td>\n",
              "      <td>0</td>\n",
              "      <td>NaN</td>\n",
              "      <td>NaN</td>\n",
              "      <td>NaN</td>\n",
              "      <td>NaN</td>\n",
              "      <td>NaN</td>\n",
              "      <td>NaN</td>\n",
              "      <td>NaN</td>\n",
              "    </tr>\n",
              "    <tr>\n",
              "      <th>1</th>\n",
              "      <td>5772</td>\n",
              "      <td>133327</td>\n",
              "      <td>225689</td>\n",
              "      <td>F</td>\n",
              "      <td>57</td>\n",
              "      <td>WHITE</td>\n",
              "      <td>NaN</td>\n",
              "      <td>163.576</td>\n",
              "      <td>T1DM</td>\n",
              "      <td>NaN</td>\n",
              "      <td>...</td>\n",
              "      <td>13</td>\n",
              "      <td>17</td>\n",
              "      <td>0</td>\n",
              "      <td>NaN</td>\n",
              "      <td>NaN</td>\n",
              "      <td>NaN</td>\n",
              "      <td>NaN</td>\n",
              "      <td>NaN</td>\n",
              "      <td>NaN</td>\n",
              "      <td>NaN</td>\n",
              "    </tr>\n",
              "    <tr>\n",
              "      <th>2</th>\n",
              "      <td>11242</td>\n",
              "      <td>116244</td>\n",
              "      <td>262657</td>\n",
              "      <td>F</td>\n",
              "      <td>39</td>\n",
              "      <td>UNKNOWN/NOT SPECIFIED</td>\n",
              "      <td>NaN</td>\n",
              "      <td>160.020</td>\n",
              "      <td>T1DM</td>\n",
              "      <td>NaN</td>\n",
              "      <td>...</td>\n",
              "      <td>6</td>\n",
              "      <td>14</td>\n",
              "      <td>0</td>\n",
              "      <td>NaN</td>\n",
              "      <td>NaN</td>\n",
              "      <td>NaN</td>\n",
              "      <td>NaN</td>\n",
              "      <td>NaN</td>\n",
              "      <td>NaN</td>\n",
              "      <td>NaN</td>\n",
              "    </tr>\n",
              "    <tr>\n",
              "      <th>3</th>\n",
              "      <td>3084</td>\n",
              "      <td>152571</td>\n",
              "      <td>206423</td>\n",
              "      <td>F</td>\n",
              "      <td>50</td>\n",
              "      <td>WHITE</td>\n",
              "      <td>NaN</td>\n",
              "      <td>NaN</td>\n",
              "      <td>Unknown</td>\n",
              "      <td>NaN</td>\n",
              "      <td>...</td>\n",
              "      <td>13</td>\n",
              "      <td>14</td>\n",
              "      <td>0</td>\n",
              "      <td>NaN</td>\n",
              "      <td>NaN</td>\n",
              "      <td>NaN</td>\n",
              "      <td>NaN</td>\n",
              "      <td>NaN</td>\n",
              "      <td>NaN</td>\n",
              "      <td>NaN</td>\n",
              "    </tr>\n",
              "    <tr>\n",
              "      <th>4</th>\n",
              "      <td>20312</td>\n",
              "      <td>189515</td>\n",
              "      <td>298077</td>\n",
              "      <td>M</td>\n",
              "      <td>62</td>\n",
              "      <td>BLACK/AFRICAN AMERICAN</td>\n",
              "      <td>NaN</td>\n",
              "      <td>177.800</td>\n",
              "      <td>T2DM</td>\n",
              "      <td>NaN</td>\n",
              "      <td>...</td>\n",
              "      <td>18</td>\n",
              "      <td>17</td>\n",
              "      <td>0</td>\n",
              "      <td>NaN</td>\n",
              "      <td>NaN</td>\n",
              "      <td>NaN</td>\n",
              "      <td>NaN</td>\n",
              "      <td>NaN</td>\n",
              "      <td>NaN</td>\n",
              "      <td>NaN</td>\n",
              "    </tr>\n",
              "  </tbody>\n",
              "</table>\n",
              "<p>5 rows × 37 columns</p>\n",
              "</div>\n",
              "    <div class=\"colab-df-buttons\">\n",
              "\n",
              "  <div class=\"colab-df-container\">\n",
              "    <button class=\"colab-df-convert\" onclick=\"convertToInteractive('df-bac67a97-a56d-4d7e-96a0-77e59d969b3f')\"\n",
              "            title=\"Convert this dataframe to an interactive table.\"\n",
              "            style=\"display:none;\">\n",
              "\n",
              "  <svg xmlns=\"http://www.w3.org/2000/svg\" height=\"24px\" viewBox=\"0 -960 960 960\">\n",
              "    <path d=\"M120-120v-720h720v720H120Zm60-500h600v-160H180v160Zm220 220h160v-160H400v160Zm0 220h160v-160H400v160ZM180-400h160v-160H180v160Zm440 0h160v-160H620v160ZM180-180h160v-160H180v160Zm440 0h160v-160H620v160Z\"/>\n",
              "  </svg>\n",
              "    </button>\n",
              "\n",
              "  <style>\n",
              "    .colab-df-container {\n",
              "      display:flex;\n",
              "      gap: 12px;\n",
              "    }\n",
              "\n",
              "    .colab-df-convert {\n",
              "      background-color: #E8F0FE;\n",
              "      border: none;\n",
              "      border-radius: 50%;\n",
              "      cursor: pointer;\n",
              "      display: none;\n",
              "      fill: #1967D2;\n",
              "      height: 32px;\n",
              "      padding: 0 0 0 0;\n",
              "      width: 32px;\n",
              "    }\n",
              "\n",
              "    .colab-df-convert:hover {\n",
              "      background-color: #E2EBFA;\n",
              "      box-shadow: 0px 1px 2px rgba(60, 64, 67, 0.3), 0px 1px 3px 1px rgba(60, 64, 67, 0.15);\n",
              "      fill: #174EA6;\n",
              "    }\n",
              "\n",
              "    .colab-df-buttons div {\n",
              "      margin-bottom: 4px;\n",
              "    }\n",
              "\n",
              "    [theme=dark] .colab-df-convert {\n",
              "      background-color: #3B4455;\n",
              "      fill: #D2E3FC;\n",
              "    }\n",
              "\n",
              "    [theme=dark] .colab-df-convert:hover {\n",
              "      background-color: #434B5C;\n",
              "      box-shadow: 0px 1px 3px 1px rgba(0, 0, 0, 0.15);\n",
              "      filter: drop-shadow(0px 1px 2px rgba(0, 0, 0, 0.3));\n",
              "      fill: #FFFFFF;\n",
              "    }\n",
              "  </style>\n",
              "\n",
              "    <script>\n",
              "      const buttonEl =\n",
              "        document.querySelector('#df-bac67a97-a56d-4d7e-96a0-77e59d969b3f button.colab-df-convert');\n",
              "      buttonEl.style.display =\n",
              "        google.colab.kernel.accessAllowed ? 'block' : 'none';\n",
              "\n",
              "      async function convertToInteractive(key) {\n",
              "        const element = document.querySelector('#df-bac67a97-a56d-4d7e-96a0-77e59d969b3f');\n",
              "        const dataTable =\n",
              "          await google.colab.kernel.invokeFunction('convertToInteractive',\n",
              "                                                    [key], {});\n",
              "        if (!dataTable) return;\n",
              "\n",
              "        const docLinkHtml = 'Like what you see? Visit the ' +\n",
              "          '<a target=\"_blank\" href=https://colab.research.google.com/notebooks/data_table.ipynb>data table notebook</a>'\n",
              "          + ' to learn more about interactive tables.';\n",
              "        element.innerHTML = '';\n",
              "        dataTable['output_type'] = 'display_data';\n",
              "        await google.colab.output.renderOutput(dataTable, element);\n",
              "        const docLink = document.createElement('div');\n",
              "        docLink.innerHTML = docLinkHtml;\n",
              "        element.appendChild(docLink);\n",
              "      }\n",
              "    </script>\n",
              "  </div>\n",
              "\n",
              "\n",
              "<div id=\"df-bc27a04e-3ce7-441b-bd3e-e6fe851ce918\">\n",
              "  <button class=\"colab-df-quickchart\" onclick=\"quickchart('df-bc27a04e-3ce7-441b-bd3e-e6fe851ce918')\"\n",
              "            title=\"Suggest charts\"\n",
              "            style=\"display:none;\">\n",
              "\n",
              "<svg xmlns=\"http://www.w3.org/2000/svg\" height=\"24px\"viewBox=\"0 0 24 24\"\n",
              "     width=\"24px\">\n",
              "    <g>\n",
              "        <path d=\"M19 3H5c-1.1 0-2 .9-2 2v14c0 1.1.9 2 2 2h14c1.1 0 2-.9 2-2V5c0-1.1-.9-2-2-2zM9 17H7v-7h2v7zm4 0h-2V7h2v10zm4 0h-2v-4h2v4z\"/>\n",
              "    </g>\n",
              "</svg>\n",
              "  </button>\n",
              "\n",
              "<style>\n",
              "  .colab-df-quickchart {\n",
              "      --bg-color: #E8F0FE;\n",
              "      --fill-color: #1967D2;\n",
              "      --hover-bg-color: #E2EBFA;\n",
              "      --hover-fill-color: #174EA6;\n",
              "      --disabled-fill-color: #AAA;\n",
              "      --disabled-bg-color: #DDD;\n",
              "  }\n",
              "\n",
              "  [theme=dark] .colab-df-quickchart {\n",
              "      --bg-color: #3B4455;\n",
              "      --fill-color: #D2E3FC;\n",
              "      --hover-bg-color: #434B5C;\n",
              "      --hover-fill-color: #FFFFFF;\n",
              "      --disabled-bg-color: #3B4455;\n",
              "      --disabled-fill-color: #666;\n",
              "  }\n",
              "\n",
              "  .colab-df-quickchart {\n",
              "    background-color: var(--bg-color);\n",
              "    border: none;\n",
              "    border-radius: 50%;\n",
              "    cursor: pointer;\n",
              "    display: none;\n",
              "    fill: var(--fill-color);\n",
              "    height: 32px;\n",
              "    padding: 0;\n",
              "    width: 32px;\n",
              "  }\n",
              "\n",
              "  .colab-df-quickchart:hover {\n",
              "    background-color: var(--hover-bg-color);\n",
              "    box-shadow: 0 1px 2px rgba(60, 64, 67, 0.3), 0 1px 3px 1px rgba(60, 64, 67, 0.15);\n",
              "    fill: var(--button-hover-fill-color);\n",
              "  }\n",
              "\n",
              "  .colab-df-quickchart-complete:disabled,\n",
              "  .colab-df-quickchart-complete:disabled:hover {\n",
              "    background-color: var(--disabled-bg-color);\n",
              "    fill: var(--disabled-fill-color);\n",
              "    box-shadow: none;\n",
              "  }\n",
              "\n",
              "  .colab-df-spinner {\n",
              "    border: 2px solid var(--fill-color);\n",
              "    border-color: transparent;\n",
              "    border-bottom-color: var(--fill-color);\n",
              "    animation:\n",
              "      spin 1s steps(1) infinite;\n",
              "  }\n",
              "\n",
              "  @keyframes spin {\n",
              "    0% {\n",
              "      border-color: transparent;\n",
              "      border-bottom-color: var(--fill-color);\n",
              "      border-left-color: var(--fill-color);\n",
              "    }\n",
              "    20% {\n",
              "      border-color: transparent;\n",
              "      border-left-color: var(--fill-color);\n",
              "      border-top-color: var(--fill-color);\n",
              "    }\n",
              "    30% {\n",
              "      border-color: transparent;\n",
              "      border-left-color: var(--fill-color);\n",
              "      border-top-color: var(--fill-color);\n",
              "      border-right-color: var(--fill-color);\n",
              "    }\n",
              "    40% {\n",
              "      border-color: transparent;\n",
              "      border-right-color: var(--fill-color);\n",
              "      border-top-color: var(--fill-color);\n",
              "    }\n",
              "    60% {\n",
              "      border-color: transparent;\n",
              "      border-right-color: var(--fill-color);\n",
              "    }\n",
              "    80% {\n",
              "      border-color: transparent;\n",
              "      border-right-color: var(--fill-color);\n",
              "      border-bottom-color: var(--fill-color);\n",
              "    }\n",
              "    90% {\n",
              "      border-color: transparent;\n",
              "      border-bottom-color: var(--fill-color);\n",
              "    }\n",
              "  }\n",
              "</style>\n",
              "\n",
              "  <script>\n",
              "    async function quickchart(key) {\n",
              "      const quickchartButtonEl =\n",
              "        document.querySelector('#' + key + ' button');\n",
              "      quickchartButtonEl.disabled = true;  // To prevent multiple clicks.\n",
              "      quickchartButtonEl.classList.add('colab-df-spinner');\n",
              "      try {\n",
              "        const charts = await google.colab.kernel.invokeFunction(\n",
              "            'suggestCharts', [key], {});\n",
              "      } catch (error) {\n",
              "        console.error('Error during call to suggestCharts:', error);\n",
              "      }\n",
              "      quickchartButtonEl.classList.remove('colab-df-spinner');\n",
              "      quickchartButtonEl.classList.add('colab-df-quickchart-complete');\n",
              "    }\n",
              "    (() => {\n",
              "      let quickchartButtonEl =\n",
              "        document.querySelector('#df-bc27a04e-3ce7-441b-bd3e-e6fe851ce918 button');\n",
              "      quickchartButtonEl.style.display =\n",
              "        google.colab.kernel.accessAllowed ? 'block' : 'none';\n",
              "    })();\n",
              "  </script>\n",
              "</div>\n",
              "\n",
              "    </div>\n",
              "  </div>\n"
            ],
            "application/vnd.google.colaboratory.intrinsic+json": {
              "type": "dataframe",
              "variable_name": "df"
            }
          },
          "metadata": {},
          "execution_count": 4
        }
      ]
    },
    {
      "cell_type": "code",
      "source": [
        "## Data Processing and EDA"
      ],
      "metadata": {
        "id": "B-4Eqki9dSO6"
      },
      "execution_count": 6,
      "outputs": []
    },
    {
      "cell_type": "code",
      "source": [
        "### Heatmap for null values"
      ],
      "metadata": {
        "id": "3XWwyGxNdil-"
      },
      "execution_count": 7,
      "outputs": []
    },
    {
      "cell_type": "code",
      "source": [
        "# Drop the specified columns\n",
        "df_heat = df.drop(['icustay_id', 'subject_id', 'hadm_id'], axis=1)\n",
        "\n",
        "# Set the size of the plot\n",
        "plt.figure(figsize=(10, 6))\n",
        "\n",
        "# Create a heatmap of null values for the remaining columns\n",
        "sns.heatmap(df_heat.isnull(), cbar=False, cmap='cividis', yticklabels=False)\n",
        "\n",
        "# Add title\n",
        "plt.title(\"Heatmap of Null Values\")\n",
        "plt.show()"
      ],
      "metadata": {
        "colab": {
          "base_uri": "https://localhost:8080/",
          "height": 658
        },
        "id": "8qK7fZf1dpUq",
        "outputId": "33226367-9047-4b4f-e2f4-5ede78583fac"
      },
      "execution_count": 8,
      "outputs": [
        {
          "output_type": "display_data",
          "data": {
            "text/plain": [
              "<Figure size 1000x600 with 1 Axes>"
            ],
            "image/png": "[encoded data removed]"
          },
          "metadata": {}
        }
      ]
    },
    {
      "cell_type": "code",
      "source": [
        "des = df.drop(['icustay_id', 'subject_id', 'hadm_id'], axis=1)\n",
        "des.describe()"
      ],
      "metadata": {
        "colab": {
          "base_uri": "https://localhost:8080/",
          "height": 350
        },
        "id": "zFOHPE_7dsGC",
        "outputId": "23f2c1b5-3054-41b2-8806-11091618ed8f"
      },
      "execution_count": 9,
      "outputs": [
        {
          "output_type": "execute_result",
          "data": {
            "text/plain": [
              "              age      weight      height  heart_rate  systolic_bp  \\\n",
              "count  822.000000  673.000000  475.000000  794.000000   793.000000   \n",
              "mean    48.931873   75.278559  168.199789   91.808749   124.197714   \n",
              "std     31.296939   21.010385   11.348762   14.652240    18.432651   \n",
              "min     15.000000   23.900000  147.320000   54.285714    76.250000   \n",
              "25%     34.000000   61.700000  160.020000   81.109307   110.730769   \n",
              "50%     46.000000   72.800000  167.640000   91.110000   121.000000   \n",
              "75%     58.000000   84.000000  176.118345  102.458654   135.947368   \n",
              "max    306.000000  190.330000  205.740000  139.480000   195.343750   \n",
              "\n",
              "       diastolic_bp  respiratory_rate  temperature  bicarbonate         wbc  \\\n",
              "count    793.000000        789.000000   793.000000   807.000000  798.000000   \n",
              "mean      63.881805         18.920311    36.859692    14.050805   11.029323   \n",
              "std       11.461513          3.890988     0.517969     5.896430    5.024656   \n",
              "min       37.137931          8.541667    34.277778     2.000000    0.500000   \n",
              "25%       55.916667         16.200000    36.566667     9.000000    7.625000   \n",
              "50%       63.320000         18.250000    36.851852    14.000000   10.200000   \n",
              "75%       70.583333         20.865854    37.145834    18.000000   13.500000   \n",
              "max      107.160000         34.740741    39.388889    35.000000   40.700000   \n",
              "\n",
              "       ...     saps_ii       oasis        sofa    gcs_eyes   gcs_motor  \\\n",
              "count  ...  822.000000  822.000000  822.000000  791.000000  788.000000   \n",
              "mean   ...   28.843066   26.531630    3.032847    3.508217    5.703046   \n",
              "std    ...   12.036119    7.585379    2.437555    0.834157    0.954167   \n",
              "min    ...    6.000000   10.000000    0.000000    1.000000    1.000000   \n",
              "25%    ...   20.000000   21.000000    1.000000    3.000000    6.000000   \n",
              "50%    ...   27.000000   25.000000    2.000000    4.000000    6.000000   \n",
              "75%    ...   36.000000   31.000000    4.000000    4.000000    6.000000   \n",
              "max    ...   81.000000   60.000000   21.000000    4.000000    6.000000   \n",
              "\n",
              "       gcs_verbal  infusion_volume  total_urine_output  creatinine_48hrs  \\\n",
              "count  792.000000     7.940000e+02          419.000000        807.000000   \n",
              "mean     4.349747     2.121986e+04         6348.460621          1.326394   \n",
              "std      1.453937     5.031819e+04         9462.597322          1.466740   \n",
              "min      0.000000     2.400000e+01            0.000000          0.200000   \n",
              "25%      5.000000     6.431126e+03         2240.000000          0.600000   \n",
              "50%      5.000000     1.072167e+04         4290.000000          0.800000   \n",
              "75%      5.000000     1.869373e+04         7180.000000          1.200000   \n",
              "max      5.000000     1.018065e+06       143781.000000         11.200000   \n",
              "\n",
              "       creatinine_7days  \n",
              "count        657.000000  \n",
              "mean           1.345205  \n",
              "std            1.540375  \n",
              "min            0.200000  \n",
              "25%            0.600000  \n",
              "50%            0.800000  \n",
              "75%            1.200000  \n",
              "max           11.000000  \n",
              "\n",
              "[8 rows x 29 columns]"
            ],
            "text/html": [
              "\n",
              "  <div id=\"df-b065eeaa-b02a-433d-9399-2ec3c37f3b4e\" class=\"colab-df-container\">\n",
              "    <div>\n",
              "<style scoped>\n",
              "    .dataframe tbody tr th:only-of-type {\n",
              "        vertical-align: middle;\n",
              "    }\n",
              "\n",
              "    .dataframe tbody tr th {\n",
              "        vertical-align: top;\n",
              "    }\n",
              "\n",
              "    .dataframe thead th {\n",
              "        text-align: right;\n",
              "    }\n",
              "</style>\n",
              "<table border=\"1\" class=\"dataframe\">\n",
              "  <thead>\n",
              "    <tr style=\"text-align: right;\">\n",
              "      <th></th>\n",
              "      <th>age</th>\n",
              "      <th>weight</th>\n",
              "      <th>height</th>\n",
              "      <th>heart_rate</th>\n",
              "      <th>systolic_bp</th>\n",
              "      <th>diastolic_bp</th>\n",
              "      <th>respiratory_rate</th>\n",
              "      <th>temperature</th>\n",
              "      <th>bicarbonate</th>\n",
              "      <th>wbc</th>\n",
              "      <th>...</th>\n",
              "      <th>saps_ii</th>\n",
              "      <th>oasis</th>\n",
              "      <th>sofa</th>\n",
              "      <th>gcs_eyes</th>\n",
              "      <th>gcs_motor</th>\n",
              "      <th>gcs_verbal</th>\n",
              "      <th>infusion_volume</th>\n",
              "      <th>total_urine_output</th>\n",
              "      <th>creatinine_48hrs</th>\n",
              "      <th>creatinine_7days</th>\n",
              "    </tr>\n",
              "  </thead>\n",
              "  <tbody>\n",
              "    <tr>\n",
              "      <th>count</th>\n",
              "      <td>822.000000</td>\n",
              "      <td>673.000000</td>\n",
              "      <td>475.000000</td>\n",
              "      <td>794.000000</td>\n",
              "      <td>793.000000</td>\n",
              "      <td>793.000000</td>\n",
              "      <td>789.000000</td>\n",
              "      <td>793.000000</td>\n",
              "      <td>807.000000</td>\n",
              "      <td>798.000000</td>\n",
              "      <td>...</td>\n",
              "      <td>822.000000</td>\n",
              "      <td>822.000000</td>\n",
              "      <td>822.000000</td>\n",
              "      <td>791.000000</td>\n",
              "      <td>788.000000</td>\n",
              "      <td>792.000000</td>\n",
              "      <td>7.940000e+02</td>\n",
              "      <td>419.000000</td>\n",
              "      <td>807.000000</td>\n",
              "      <td>657.000000</td>\n",
              "    </tr>\n",
              "    <tr>\n",
              "      <th>mean</th>\n",
              "      <td>48.931873</td>\n",
              "      <td>75.278559</td>\n",
              "      <td>168.199789</td>\n",
              "      <td>91.808749</td>\n",
              "      <td>124.197714</td>\n",
              "      <td>63.881805</td>\n",
              "      <td>18.920311</td>\n",
              "      <td>36.859692</td>\n",
              "      <td>14.050805</td>\n",
              "      <td>11.029323</td>\n",
              "      <td>...</td>\n",
              "      <td>28.843066</td>\n",
              "      <td>26.531630</td>\n",
              "      <td>3.032847</td>\n",
              "      <td>3.508217</td>\n",
              "      <td>5.703046</td>\n",
              "      <td>4.349747</td>\n",
              "      <td>2.121986e+04</td>\n",
              "      <td>6348.460621</td>\n",
              "      <td>1.326394</td>\n",
              "      <td>1.345205</td>\n",
              "    </tr>\n",
              "    <tr>\n",
              "      <th>std</th>\n",
              "      <td>31.296939</td>\n",
              "      <td>21.010385</td>\n",
              "      <td>11.348762</td>\n",
              "      <td>14.652240</td>\n",
              "      <td>18.432651</td>\n",
              "      <td>11.461513</td>\n",
              "      <td>3.890988</td>\n",
              "      <td>0.517969</td>\n",
              "      <td>5.896430</td>\n",
              "      <td>5.024656</td>\n",
              "      <td>...</td>\n",
              "      <td>12.036119</td>\n",
              "      <td>7.585379</td>\n",
              "      <td>2.437555</td>\n",
              "      <td>0.834157</td>\n",
              "      <td>0.954167</td>\n",
              "      <td>1.453937</td>\n",
              "      <td>5.031819e+04</td>\n",
              "      <td>9462.597322</td>\n",
              "      <td>1.466740</td>\n",
              "      <td>1.540375</td>\n",
              "    </tr>\n",
              "    <tr>\n",
              "      <th>min</th>\n",
              "      <td>15.000000</td>\n",
              "      <td>23.900000</td>\n",
              "      <td>147.320000</td>\n",
              "      <td>54.285714</td>\n",
              "      <td>76.250000</td>\n",
              "      <td>37.137931</td>\n",
              "      <td>8.541667</td>\n",
              "      <td>34.277778</td>\n",
              "      <td>2.000000</td>\n",
              "      <td>0.500000</td>\n",
              "      <td>...</td>\n",
              "      <td>6.000000</td>\n",
              "      <td>10.000000</td>\n",
              "      <td>0.000000</td>\n",
              "      <td>1.000000</td>\n",
              "      <td>1.000000</td>\n",
              "      <td>0.000000</td>\n",
              "      <td>2.400000e+01</td>\n",
              "      <td>0.000000</td>\n",
              "      <td>0.200000</td>\n",
              "      <td>0.200000</td>\n",
              "    </tr>\n",
              "    <tr>\n",
              "      <th>25%</th>\n",
              "      <td>34.000000</td>\n",
              "      <td>61.700000</td>\n",
              "      <td>160.020000</td>\n",
              "      <td>81.109307</td>\n",
              "      <td>110.730769</td>\n",
              "      <td>55.916667</td>\n",
              "      <td>16.200000</td>\n",
              "      <td>36.566667</td>\n",
              "      <td>9.000000</td>\n",
              "      <td>7.625000</td>\n",
              "      <td>...</td>\n",
              "      <td>20.000000</td>\n",
              "      <td>21.000000</td>\n",
              "      <td>1.000000</td>\n",
              "      <td>3.000000</td>\n",
              "      <td>6.000000</td>\n",
              "      <td>5.000000</td>\n",
              "      <td>6.431126e+03</td>\n",
              "      <td>2240.000000</td>\n",
              "      <td>0.600000</td>\n",
              "      <td>0.600000</td>\n",
              "    </tr>\n",
              "    <tr>\n",
              "      <th>50%</th>\n",
              "      <td>46.000000</td>\n",
              "      <td>72.800000</td>\n",
              "      <td>167.640000</td>\n",
              "      <td>91.110000</td>\n",
              "      <td>121.000000</td>\n",
              "      <td>63.320000</td>\n",
              "      <td>18.250000</td>\n",
              "      <td>36.851852</td>\n",
              "      <td>14.000000</td>\n",
              "      <td>10.200000</td>\n",
              "      <td>...</td>\n",
              "      <td>27.000000</td>\n",
              "      <td>25.000000</td>\n",
              "      <td>2.000000</td>\n",
              "      <td>4.000000</td>\n",
              "      <td>6.000000</td>\n",
              "      <td>5.000000</td>\n",
              "      <td>1.072167e+04</td>\n",
              "      <td>4290.000000</td>\n",
              "      <td>0.800000</td>\n",
              "      <td>0.800000</td>\n",
              "    </tr>\n",
              "    <tr>\n",
              "      <th>75%</th>\n",
              "      <td>58.000000</td>\n",
              "      <td>84.000000</td>\n",
              "      <td>176.118345</td>\n",
              "      <td>102.458654</td>\n",
              "      <td>135.947368</td>\n",
              "      <td>70.583333</td>\n",
              "      <td>20.865854</td>\n",
              "      <td>37.145834</td>\n",
              "      <td>18.000000</td>\n",
              "      <td>13.500000</td>\n",
              "      <td>...</td>\n",
              "      <td>36.000000</td>\n",
              "      <td>31.000000</td>\n",
              "      <td>4.000000</td>\n",
              "      <td>4.000000</td>\n",
              "      <td>6.000000</td>\n",
              "      <td>5.000000</td>\n",
              "      <td>1.869373e+04</td>\n",
              "      <td>7180.000000</td>\n",
              "      <td>1.200000</td>\n",
              "      <td>1.200000</td>\n",
              "    </tr>\n",
              "    <tr>\n",
              "      <th>max</th>\n",
              "      <td>306.000000</td>\n",
              "      <td>190.330000</td>\n",
              "      <td>205.740000</td>\n",
              "      <td>139.480000</td>\n",
              "      <td>195.343750</td>\n",
              "      <td>107.160000</td>\n",
              "      <td>34.740741</td>\n",
              "      <td>39.388889</td>\n",
              "      <td>35.000000</td>\n",
              "      <td>40.700000</td>\n",
              "      <td>...</td>\n",
              "      <td>81.000000</td>\n",
              "      <td>60.000000</td>\n",
              "      <td>21.000000</td>\n",
              "      <td>4.000000</td>\n",
              "      <td>6.000000</td>\n",
              "      <td>5.000000</td>\n",
              "      <td>1.018065e+06</td>\n",
              "      <td>143781.000000</td>\n",
              "      <td>11.200000</td>\n",
              "      <td>11.000000</td>\n",
              "    </tr>\n",
              "  </tbody>\n",
              "</table>\n",
              "<p>8 rows × 29 columns</p>\n",
              "</div>\n",
              "    <div class=\"colab-df-buttons\">\n",
              "\n",
              "  <div class=\"colab-df-container\">\n",
              "    <button class=\"colab-df-convert\" onclick=\"convertToInteractive('df-b065eeaa-b02a-433d-9399-2ec3c37f3b4e')\"\n",
              "            title=\"Convert this dataframe to an interactive table.\"\n",
              "            style=\"display:none;\">\n",
              "\n",
              "  <svg xmlns=\"http://www.w3.org/2000/svg\" height=\"24px\" viewBox=\"0 -960 960 960\">\n",
              "    <path d=\"M120-120v-720h720v720H120Zm60-500h600v-160H180v160Zm220 220h160v-160H400v160Zm0 220h160v-160H400v160ZM180-400h160v-160H180v160Zm440 0h160v-160H620v160ZM180-180h160v-160H180v160Zm440 0h160v-160H620v160Z\"/>\n",
              "  </svg>\n",
              "    </button>\n",
              "\n",
              "  <style>\n",
              "    .colab-df-container {\n",
              "      display:flex;\n",
              "      gap: 12px;\n",
              "    }\n",
              "\n",
              "    .colab-df-convert {\n",
              "      background-color: #E8F0FE;\n",
              "      border: none;\n",
              "      border-radius: 50%;\n",
              "      cursor: pointer;\n",
              "      display: none;\n",
              "      fill: #1967D2;\n",
              "      height: 32px;\n",
              "      padding: 0 0 0 0;\n",
              "      width: 32px;\n",
              "    }\n",
              "\n",
              "    .colab-df-convert:hover {\n",
              "      background-color: #E2EBFA;\n",
              "      box-shadow: 0px 1px 2px rgba(60, 64, 67, 0.3), 0px 1px 3px 1px rgba(60, 64, 67, 0.15);\n",
              "      fill: #174EA6;\n",
              "    }\n",
              "\n",
              "    .colab-df-buttons div {\n",
              "      margin-bottom: 4px;\n",
              "    }\n",
              "\n",
              "    [theme=dark] .colab-df-convert {\n",
              "      background-color: #3B4455;\n",
              "      fill: #D2E3FC;\n",
              "    }\n",
              "\n",
              "    [theme=dark] .colab-df-convert:hover {\n",
              "      background-color: #434B5C;\n",
              "      box-shadow: 0px 1px 3px 1px rgba(0, 0, 0, 0.15);\n",
              "      filter: drop-shadow(0px 1px 2px rgba(0, 0, 0, 0.3));\n",
              "      fill: #FFFFFF;\n",
              "    }\n",
              "  </style>\n",
              "\n",
              "    <script>\n",
              "      const buttonEl =\n",
              "        document.querySelector('#df-b065eeaa-b02a-433d-9399-2ec3c37f3b4e button.colab-df-convert');\n",
              "      buttonEl.style.display =\n",
              "        google.colab.kernel.accessAllowed ? 'block' : 'none';\n",
              "\n",
              "      async function convertToInteractive(key) {\n",
              "        const element = document.querySelector('#df-b065eeaa-b02a-433d-9399-2ec3c37f3b4e');\n",
              "        const dataTable =\n",
              "          await google.colab.kernel.invokeFunction('convertToInteractive',\n",
              "                                                    [key], {});\n",
              "        if (!dataTable) return;\n",
              "\n",
              "        const docLinkHtml = 'Like what you see? Visit the ' +\n",
              "          '<a target=\"_blank\" href=https://colab.research.google.com/notebooks/data_table.ipynb>data table notebook</a>'\n",
              "          + ' to learn more about interactive tables.';\n",
              "        element.innerHTML = '';\n",
              "        dataTable['output_type'] = 'display_data';\n",
              "        await google.colab.output.renderOutput(dataTable, element);\n",
              "        const docLink = document.createElement('div');\n",
              "        docLink.innerHTML = docLinkHtml;\n",
              "        element.appendChild(docLink);\n",
              "      }\n",
              "    </script>\n",
              "  </div>\n",
              "\n",
              "\n",
              "<div id=\"df-75173a2b-9901-4621-b6f4-0777d3fe0a05\">\n",
              "  <button class=\"colab-df-quickchart\" onclick=\"quickchart('df-75173a2b-9901-4621-b6f4-0777d3fe0a05')\"\n",
              "            title=\"Suggest charts\"\n",
              "            style=\"display:none;\">\n",
              "\n",
              "<svg xmlns=\"http://www.w3.org/2000/svg\" height=\"24px\"viewBox=\"0 0 24 24\"\n",
              "     width=\"24px\">\n",
              "    <g>\n",
              "        <path d=\"M19 3H5c-1.1 0-2 .9-2 2v14c0 1.1.9 2 2 2h14c1.1 0 2-.9 2-2V5c0-1.1-.9-2-2-2zM9 17H7v-7h2v7zm4 0h-2V7h2v10zm4 0h-2v-4h2v4z\"/>\n",
              "    </g>\n",
              "</svg>\n",
              "  </button>\n",
              "\n",
              "<style>\n",
              "  .colab-df-quickchart {\n",
              "      --bg-color: #E8F0FE;\n",
              "      --fill-color: #1967D2;\n",
              "      --hover-bg-color: #E2EBFA;\n",
              "      --hover-fill-color: #174EA6;\n",
              "      --disabled-fill-color: #AAA;\n",
              "      --disabled-bg-color: #DDD;\n",
              "  }\n",
              "\n",
              "  [theme=dark] .colab-df-quickchart {\n",
              "      --bg-color: #3B4455;\n",
              "      --fill-color: #D2E3FC;\n",
              "      --hover-bg-color: #434B5C;\n",
              "      --hover-fill-color: #FFFFFF;\n",
              "      --disabled-bg-color: #3B4455;\n",
              "      --disabled-fill-color: #666;\n",
              "  }\n",
              "\n",
              "  .colab-df-quickchart {\n",
              "    background-color: var(--bg-color);\n",
              "    border: none;\n",
              "    border-radius: 50%;\n",
              "    cursor: pointer;\n",
              "    display: none;\n",
              "    fill: var(--fill-color);\n",
              "    height: 32px;\n",
              "    padding: 0;\n",
              "    width: 32px;\n",
              "  }\n",
              "\n",
              "  .colab-df-quickchart:hover {\n",
              "    background-color: var(--hover-bg-color);\n",
              "    box-shadow: 0 1px 2px rgba(60, 64, 67, 0.3), 0 1px 3px 1px rgba(60, 64, 67, 0.15);\n",
              "    fill: var(--button-hover-fill-color);\n",
              "  }\n",
              "\n",
              "  .colab-df-quickchart-complete:disabled,\n",
              "  .colab-df-quickchart-complete:disabled:hover {\n",
              "    background-color: var(--disabled-bg-color);\n",
              "    fill: var(--disabled-fill-color);\n",
              "    box-shadow: none;\n",
              "  }\n",
              "\n",
              "  .colab-df-spinner {\n",
              "    border: 2px solid var(--fill-color);\n",
              "    border-color: transparent;\n",
              "    border-bottom-color: var(--fill-color);\n",
              "    animation:\n",
              "      spin 1s steps(1) infinite;\n",
              "  }\n",
              "\n",
              "  @keyframes spin {\n",
              "    0% {\n",
              "      border-color: transparent;\n",
              "      border-bottom-color: var(--fill-color);\n",
              "      border-left-color: var(--fill-color);\n",
              "    }\n",
              "    20% {\n",
              "      border-color: transparent;\n",
              "      border-left-color: var(--fill-color);\n",
              "      border-top-color: var(--fill-color);\n",
              "    }\n",
              "    30% {\n",
              "      border-color: transparent;\n",
              "      border-left-color: var(--fill-color);\n",
              "      border-top-color: var(--fill-color);\n",
              "      border-right-color: var(--fill-color);\n",
              "    }\n",
              "    40% {\n",
              "      border-color: transparent;\n",
              "      border-right-color: var(--fill-color);\n",
              "      border-top-color: var(--fill-color);\n",
              "    }\n",
              "    60% {\n",
              "      border-color: transparent;\n",
              "      border-right-color: var(--fill-color);\n",
              "    }\n",
              "    80% {\n",
              "      border-color: transparent;\n",
              "      border-right-color: var(--fill-color);\n",
              "      border-bottom-color: var(--fill-color);\n",
              "    }\n",
              "    90% {\n",
              "      border-color: transparent;\n",
              "      border-bottom-color: var(--fill-color);\n",
              "    }\n",
              "  }\n",
              "</style>\n",
              "\n",
              "  <script>\n",
              "    async function quickchart(key) {\n",
              "      const quickchartButtonEl =\n",
              "        document.querySelector('#' + key + ' button');\n",
              "      quickchartButtonEl.disabled = true;  // To prevent multiple clicks.\n",
              "      quickchartButtonEl.classList.add('colab-df-spinner');\n",
              "      try {\n",
              "        const charts = await google.colab.kernel.invokeFunction(\n",
              "            'suggestCharts', [key], {});\n",
              "      } catch (error) {\n",
              "        console.error('Error during call to suggestCharts:', error);\n",
              "      }\n",
              "      quickchartButtonEl.classList.remove('colab-df-spinner');\n",
              "      quickchartButtonEl.classList.add('colab-df-quickchart-complete');\n",
              "    }\n",
              "    (() => {\n",
              "      let quickchartButtonEl =\n",
              "        document.querySelector('#df-75173a2b-9901-4621-b6f4-0777d3fe0a05 button');\n",
              "      quickchartButtonEl.style.display =\n",
              "        google.colab.kernel.accessAllowed ? 'block' : 'none';\n",
              "    })();\n",
              "  </script>\n",
              "</div>\n",
              "\n",
              "    </div>\n",
              "  </div>\n"
            ],
            "application/vnd.google.colaboratory.intrinsic+json": {
              "type": "dataframe"
            }
          },
          "metadata": {},
          "execution_count": 9
        }
      ]
    },
    {
      "cell_type": "code",
      "source": [
        "df.dtypes"
      ],
      "metadata": {
        "colab": {
          "base_uri": "https://localhost:8080/",
          "height": 1000
        },
        "id": "pe3ammwAduud",
        "outputId": "daa9f450-cc4c-4bff-fa2a-27c06365c829"
      },
      "execution_count": 10,
      "outputs": [
        {
          "output_type": "execute_result",
          "data": {
            "text/plain": [
              "subject_id              int64\n",
              "hadm_id                 int64\n",
              "icustay_id              int64\n",
              "gender                 object\n",
              "age                     int64\n",
              "ethnicity              object\n",
              "weight                float64\n",
              "height                float64\n",
              "dm_type                object\n",
              "complications          object\n",
              "comorbidities          object\n",
              "heart_rate            float64\n",
              "systolic_bp           float64\n",
              "diastolic_bp          float64\n",
              "respiratory_rate      float64\n",
              "temperature           float64\n",
              "bicarbonate           float64\n",
              "wbc                   float64\n",
              "hemoglobin            float64\n",
              "platelets             float64\n",
              "sodium                float64\n",
              "chloride              float64\n",
              "bun                   float64\n",
              "creatinine            float64\n",
              "potassium             float64\n",
              "glucose               float64\n",
              "anion_gap             float64\n",
              "saps_ii                 int64\n",
              "oasis                   int64\n",
              "sofa                    int64\n",
              "gcs_eyes              float64\n",
              "gcs_motor             float64\n",
              "gcs_verbal            float64\n",
              "infusion_volume       float64\n",
              "total_urine_output    float64\n",
              "creatinine_48hrs      float64\n",
              "creatinine_7days      float64\n",
              "dtype: object"
            ],
            "text/html": [
              "<div>\n",
              "<style scoped>\n",
              "    .dataframe tbody tr th:only-of-type {\n",
              "        vertical-align: middle;\n",
              "    }\n",
              "\n",
              "    .dataframe tbody tr th {\n",
              "        vertical-align: top;\n",
              "    }\n",
              "\n",
              "    .dataframe thead th {\n",
              "        text-align: right;\n",
              "    }\n",
              "</style>\n",
              "<table border=\"1\" class=\"dataframe\">\n",
              "  <thead>\n",
              "    <tr style=\"text-align: right;\">\n",
              "      <th></th>\n",
              "      <th>0</th>\n",
              "    </tr>\n",
              "  </thead>\n",
              "  <tbody>\n",
              "    <tr>\n",
              "      <th>subject_id</th>\n",
              "      <td>int64</td>\n",
              "    </tr>\n",
              "    <tr>\n",
              "      <th>hadm_id</th>\n",
              "      <td>int64</td>\n",
              "    </tr>\n",
              "    <tr>\n",
              "      <th>icustay_id</th>\n",
              "      <td>int64</td>\n",
              "    </tr>\n",
              "    <tr>\n",
              "      <th>gender</th>\n",
              "      <td>object</td>\n",
              "    </tr>\n",
              "    <tr>\n",
              "      <th>age</th>\n",
              "      <td>int64</td>\n",
              "    </tr>\n",
              "    <tr>\n",
              "      <th>ethnicity</th>\n",
              "      <td>object</td>\n",
              "    </tr>\n",
              "    <tr>\n",
              "      <th>weight</th>\n",
              "      <td>float64</td>\n",
              "    </tr>\n",
              "    <tr>\n",
              "      <th>height</th>\n",
              "      <td>float64</td>\n",
              "    </tr>\n",
              "    <tr>\n",
              "      <th>dm_type</th>\n",
              "      <td>object</td>\n",
              "    </tr>\n",
              "    <tr>\n",
              "      <th>complications</th>\n",
              "      <td>object</td>\n",
              "    </tr>\n",
              "    <tr>\n",
              "      <th>comorbidities</th>\n",
              "      <td>object</td>\n",
              "    </tr>\n",
              "    <tr>\n",
              "      <th>heart_rate</th>\n",
              "      <td>float64</td>\n",
              "    </tr>\n",
              "    <tr>\n",
              "      <th>systolic_bp</th>\n",
              "      <td>float64</td>\n",
              "    </tr>\n",
              "    <tr>\n",
              "      <th>diastolic_bp</th>\n",
              "      <td>float64</td>\n",
              "    </tr>\n",
              "    <tr>\n",
              "      <th>respiratory_rate</th>\n",
              "      <td>float64</td>\n",
              "    </tr>\n",
              "    <tr>\n",
              "      <th>temperature</th>\n",
              "      <td>float64</td>\n",
              "    </tr>\n",
              "    <tr>\n",
              "      <th>bicarbonate</th>\n",
              "      <td>float64</td>\n",
              "    </tr>\n",
              "    <tr>\n",
              "      <th>wbc</th>\n",
              "      <td>float64</td>\n",
              "    </tr>\n",
              "    <tr>\n",
              "      <th>hemoglobin</th>\n",
              "      <td>float64</td>\n",
              "    </tr>\n",
              "    <tr>\n",
              "      <th>platelets</th>\n",
              "      <td>float64</td>\n",
              "    </tr>\n",
              "    <tr>\n",
              "      <th>sodium</th>\n",
              "      <td>float64</td>\n",
              "    </tr>\n",
              "    <tr>\n",
              "      <th>chloride</th>\n",
              "      <td>float64</td>\n",
              "    </tr>\n",
              "    <tr>\n",
              "      <th>bun</th>\n",
              "      <td>float64</td>\n",
              "    </tr>\n",
              "    <tr>\n",
              "      <th>creatinine</th>\n",
              "      <td>float64</td>\n",
              "    </tr>\n",
              "    <tr>\n",
              "      <th>potassium</th>\n",
              "      <td>float64</td>\n",
              "    </tr>\n",
              "    <tr>\n",
              "      <th>glucose</th>\n",
              "      <td>float64</td>\n",
              "    </tr>\n",
              "    <tr>\n",
              "      <th>anion_gap</th>\n",
              "      <td>float64</td>\n",
              "    </tr>\n",
              "    <tr>\n",
              "      <th>saps_ii</th>\n",
              "      <td>int64</td>\n",
              "    </tr>\n",
              "    <tr>\n",
              "      <th>oasis</th>\n",
              "      <td>int64</td>\n",
              "    </tr>\n",
              "    <tr>\n",
              "      <th>sofa</th>\n",
              "      <td>int64</td>\n",
              "    </tr>\n",
              "    <tr>\n",
              "      <th>gcs_eyes</th>\n",
              "      <td>float64</td>\n",
              "    </tr>\n",
              "    <tr>\n",
              "      <th>gcs_motor</th>\n",
              "      <td>float64</td>\n",
              "    </tr>\n",
              "    <tr>\n",
              "      <th>gcs_verbal</th>\n",
              "      <td>float64</td>\n",
              "    </tr>\n",
              "    <tr>\n",
              "      <th>infusion_volume</th>\n",
              "      <td>float64</td>\n",
              "    </tr>\n",
              "    <tr>\n",
              "      <th>total_urine_output</th>\n",
              "      <td>float64</td>\n",
              "    </tr>\n",
              "    <tr>\n",
              "      <th>creatinine_48hrs</th>\n",
              "      <td>float64</td>\n",
              "    </tr>\n",
              "    <tr>\n",
              "      <th>creatinine_7days</th>\n",
              "      <td>float64</td>\n",
              "    </tr>\n",
              "  </tbody>\n",
              "</table>\n",
              "</div><br><label><b>dtype:</b> object</label>"
            ]
          },
          "metadata": {},
          "execution_count": 10
        }
      ]
    },
    {
      "cell_type": "code",
      "source": [
        "names = df['gender'].value_counts().index.tolist()\n",
        "names\n",
        "values = df['gender'].value_counts().tolist()\n",
        "values\n",
        "colors = [ '#a7c957', '#ffb703']\n",
        "explode = (0.1, 0)\n",
        "\n",
        "fig = plt.figure(figsize=(5, 5))\n",
        "plt.pie(values, labels=names, colors=colors, autopct='%1.1f%%', startangle=90, explode=explode, shadow=True)\n",
        "plt.title('Proportion of Male & Female')\n",
        "plt.show()"
      ],
      "metadata": {
        "colab": {
          "base_uri": "https://localhost:8080/",
          "height": 444
        },
        "id": "HL9Fd0i3dxA5",
        "outputId": "94b3c0b3-8b15-4480-a0a8-d079389213c2"
      },
      "execution_count": 11,
      "outputs": [
        {
          "output_type": "display_data",
          "data": {
            "text/plain": [
              "<Figure size 500x500 with 1 Axes>"
            ],
            "image/png": "[encoded data removed]"
          },
          "metadata": {}
        }
      ]
    },
    {
      "cell_type": "code",
      "source": [
        "names = df['dm_type'].value_counts().index.tolist()\n",
        "names\n",
        "values = df['dm_type'].value_counts().tolist()\n",
        "values\n",
        "colors = [ '#a7c957', '#ffb703','#c1121f']\n",
        "# explode = (0.1, 0)\n",
        "\n",
        "fig = plt.figure(figsize=(5, 5))\n",
        "plt.pie(values, labels=names, colors=colors, autopct='%1.1f%%', startangle=90, shadow=True)\n",
        "plt.title('Proportion of dm_type')\n",
        "plt.show()"
      ],
      "metadata": {
        "colab": {
          "base_uri": "https://localhost:8080/",
          "height": 444
        },
        "id": "SeNdgJFld0Cy",
        "outputId": "9a503d99-6dc3-4e33-986b-75450b7a09a2"
      },
      "execution_count": 12,
      "outputs": [
        {
          "output_type": "display_data",
          "data": {
            "text/plain": [
              "<Figure size 500x500 with 1 Axes>"
            ],
            "image/png": "[encoded data removed]"
          },
          "metadata": {}
        }
      ]
    },
    {
      "cell_type": "code",
      "source": [
        "df['gcs_score'] = df['gcs_eyes'] * df['gcs_verbal'] * df['gcs_motor']"
      ],
      "metadata": {
        "id": "XYYetXBvd4VO"
      },
      "execution_count": 13,
      "outputs": []
    },
    {
      "cell_type": "code",
      "source": [
        "df = df.drop(['gcs_eyes','gcs_verbal','gcs_motor'],axis=1)"
      ],
      "metadata": {
        "id": "sLeiy1hgd-0c"
      },
      "execution_count": 14,
      "outputs": []
    },
    {
      "cell_type": "code",
      "source": [
        "# The count of missing values in each column\n",
        "missing_values = df.isnull().sum()\n",
        "print(missing_values)"
      ],
      "metadata": {
        "colab": {
          "base_uri": "https://localhost:8080/"
        },
        "id": "Sly0VAPweAu7",
        "outputId": "4191c827-4b46-4d14-8ef4-e95dcec9342f"
      },
      "execution_count": 15,
      "outputs": [
        {
          "output_type": "stream",
          "name": "stdout",
          "text": [
            "subject_id              0\n",
            "hadm_id                 0\n",
            "icustay_id              0\n",
            "gender                  0\n",
            "age                     0\n",
            "ethnicity               0\n",
            "weight                149\n",
            "height                347\n",
            "dm_type                 0\n",
            "complications         522\n",
            "comorbidities         373\n",
            "heart_rate             28\n",
            "systolic_bp            29\n",
            "diastolic_bp           29\n",
            "respiratory_rate       33\n",
            "temperature            29\n",
            "bicarbonate            15\n",
            "wbc                    24\n",
            "hemoglobin             25\n",
            "platelets              24\n",
            "sodium                 15\n",
            "chloride               15\n",
            "bun                    15\n",
            "creatinine             15\n",
            "potassium              15\n",
            "glucose                16\n",
            "anion_gap              15\n",
            "saps_ii                 0\n",
            "oasis                   0\n",
            "sofa                    0\n",
            "infusion_volume        28\n",
            "total_urine_output    403\n",
            "creatinine_48hrs       15\n",
            "creatinine_7days      165\n",
            "gcs_score              37\n",
            "dtype: int64\n"
          ]
        }
      ]
    },
    {
      "cell_type": "code",
      "source": [
        "percent_missing = df.isnull().mean() * 100\n",
        "print(percent_missing)"
      ],
      "metadata": {
        "colab": {
          "base_uri": "https://localhost:8080/"
        },
        "id": "4AyH9CAUeCgr",
        "outputId": "86c52add-7279-4b38-9102-77b5c721a50c"
      },
      "execution_count": 16,
      "outputs": [
        {
          "output_type": "stream",
          "name": "stdout",
          "text": [
            "subject_id             0.000000\n",
            "hadm_id                0.000000\n",
            "icustay_id             0.000000\n",
            "gender                 0.000000\n",
            "age                    0.000000\n",
            "ethnicity              0.000000\n",
            "weight                18.126521\n",
            "height                42.214112\n",
            "dm_type                0.000000\n",
            "complications         63.503650\n",
            "comorbidities         45.377129\n",
            "heart_rate             3.406326\n",
            "systolic_bp            3.527981\n",
            "diastolic_bp           3.527981\n",
            "respiratory_rate       4.014599\n",
            "temperature            3.527981\n",
            "bicarbonate            1.824818\n",
            "wbc                    2.919708\n",
            "hemoglobin             3.041363\n",
            "platelets              2.919708\n",
            "sodium                 1.824818\n",
            "chloride               1.824818\n",
            "bun                    1.824818\n",
            "creatinine             1.824818\n",
            "potassium              1.824818\n",
            "glucose                1.946472\n",
            "anion_gap              1.824818\n",
            "saps_ii                0.000000\n",
            "oasis                  0.000000\n",
            "sofa                   0.000000\n",
            "infusion_volume        3.406326\n",
            "total_urine_output    49.026764\n",
            "creatinine_48hrs       1.824818\n",
            "creatinine_7days      20.072993\n",
            "gcs_score              4.501217\n",
            "dtype: float64\n"
          ]
        }
      ]
    },
    {
      "cell_type": "code",
      "source": [
        "# Filter out columns with more than 22% missing values\n",
        "columns_to_keep = percent_missing[percent_missing <= 22].index\n",
        "df_filtered = df[columns_to_keep]\n",
        "\n",
        "# Show the filtered DataFrame\n",
        "print(df_filtered.head())"
      ],
      "metadata": {
        "colab": {
          "base_uri": "https://localhost:8080/"
        },
        "id": "B4FM3c9GeFHT",
        "outputId": "f87fe6d1-4f0b-4d76-96e3-ffc0e827e342"
      },
      "execution_count": 17,
      "outputs": [
        {
          "output_type": "stream",
          "name": "stdout",
          "text": [
            "   subject_id  hadm_id  icustay_id gender  age               ethnicity  \\\n",
            "0        6321   171988      244279      M   31  BLACK/AFRICAN AMERICAN   \n",
            "1        5772   133327      225689      F   57                   WHITE   \n",
            "2       11242   116244      262657      F   39   UNKNOWN/NOT SPECIFIED   \n",
            "3        3084   152571      206423      F   50                   WHITE   \n",
            "4       20312   189515      298077      M   62  BLACK/AFRICAN AMERICAN   \n",
            "\n",
            "   weight  dm_type  heart_rate  systolic_bp  ...  potassium  glucose  \\\n",
            "0     NaN     T1DM         NaN          NaN  ...        NaN      NaN   \n",
            "1     NaN     T1DM         NaN          NaN  ...        NaN      NaN   \n",
            "2     NaN     T1DM         NaN          NaN  ...        NaN      NaN   \n",
            "3     NaN  Unknown         NaN          NaN  ...        NaN      NaN   \n",
            "4     NaN     T2DM         NaN          NaN  ...        NaN      NaN   \n",
            "\n",
            "   anion_gap  saps_ii  oasis  sofa  infusion_volume  creatinine_48hrs  \\\n",
            "0        NaN        6     14     0              NaN               NaN   \n",
            "1        NaN       13     17     0              NaN               NaN   \n",
            "2        NaN        6     14     0              NaN               NaN   \n",
            "3        NaN       13     14     0              NaN               NaN   \n",
            "4        NaN       18     17     0              NaN               NaN   \n",
            "\n",
            "   creatinine_7days  gcs_score  \n",
            "0               NaN        NaN  \n",
            "1               NaN        NaN  \n",
            "2               NaN        NaN  \n",
            "3               NaN        NaN  \n",
            "4               NaN        NaN  \n",
            "\n",
            "[5 rows x 31 columns]\n"
          ]
        }
      ]
    },
    {
      "cell_type": "code",
      "source": [
        "# Check the remaining columns\n",
        "print(\"Columns before filtering:\", df.shape[1])\n",
        "print(\"Columns after filtering:\", df_filtered.shape[1])"
      ],
      "metadata": {
        "colab": {
          "base_uri": "https://localhost:8080/"
        },
        "id": "6vg7l2h_eRRE",
        "outputId": "81ee0fdf-c0c3-42a1-a7e8-6b23b7194645"
      },
      "execution_count": 18,
      "outputs": [
        {
          "output_type": "stream",
          "name": "stdout",
          "text": [
            "Columns before filtering: 35\n",
            "Columns after filtering: 31\n"
          ]
        }
      ]
    },
    {
      "cell_type": "code",
      "source": [
        "missing_values = df_filtered.isnull().sum()\n",
        "print(missing_values)"
      ],
      "metadata": {
        "colab": {
          "base_uri": "https://localhost:8080/"
        },
        "id": "O3I7utl8eUOP",
        "outputId": "0584c2af-4c70-4ea2-8326-cd5a31468378"
      },
      "execution_count": 19,
      "outputs": [
        {
          "output_type": "stream",
          "name": "stdout",
          "text": [
            "subject_id            0\n",
            "hadm_id               0\n",
            "icustay_id            0\n",
            "gender                0\n",
            "age                   0\n",
            "ethnicity             0\n",
            "weight              149\n",
            "dm_type               0\n",
            "heart_rate           28\n",
            "systolic_bp          29\n",
            "diastolic_bp         29\n",
            "respiratory_rate     33\n",
            "temperature          29\n",
            "bicarbonate          15\n",
            "wbc                  24\n",
            "hemoglobin           25\n",
            "platelets            24\n",
            "sodium               15\n",
            "chloride             15\n",
            "bun                  15\n",
            "creatinine           15\n",
            "potassium            15\n",
            "glucose              16\n",
            "anion_gap            15\n",
            "saps_ii               0\n",
            "oasis                 0\n",
            "sofa                  0\n",
            "infusion_volume      28\n",
            "creatinine_48hrs     15\n",
            "creatinine_7days    165\n",
            "gcs_score            37\n",
            "dtype: int64\n"
          ]
        }
      ]
    },
    {
      "cell_type": "code",
      "source": [
        "from sklearn.impute import KNNImputer\n",
        "print(df_filtered.dtypes)"
      ],
      "metadata": {
        "colab": {
          "base_uri": "https://localhost:8080/"
        },
        "id": "mWCvrfuJeX9p",
        "outputId": "d5b861ea-ae81-4847-de33-afa45f984df7"
      },
      "execution_count": 21,
      "outputs": [
        {
          "output_type": "stream",
          "name": "stdout",
          "text": [
            "subject_id            int64\n",
            "hadm_id               int64\n",
            "icustay_id            int64\n",
            "gender               object\n",
            "age                   int64\n",
            "ethnicity            object\n",
            "weight              float64\n",
            "dm_type              object\n",
            "heart_rate          float64\n",
            "systolic_bp         float64\n",
            "diastolic_bp        float64\n",
            "respiratory_rate    float64\n",
            "temperature         float64\n",
            "bicarbonate         float64\n",
            "wbc                 float64\n",
            "hemoglobin          float64\n",
            "platelets           float64\n",
            "sodium              float64\n",
            "chloride            float64\n",
            "bun                 float64\n",
            "creatinine          float64\n",
            "potassium           float64\n",
            "glucose             float64\n",
            "anion_gap           float64\n",
            "saps_ii               int64\n",
            "oasis                 int64\n",
            "sofa                  int64\n",
            "infusion_volume     float64\n",
            "creatinine_48hrs    float64\n",
            "creatinine_7days    float64\n",
            "gcs_score           float64\n",
            "dtype: object\n"
          ]
        }
      ]
    },
    {
      "cell_type": "code",
      "source": [
        "# Separate numerical columns\n",
        "numerical_columns = df_filtered.select_dtypes(include=['number']).columns.tolist()\n",
        "\n",
        "# Separate categorical columns\n",
        "categorical_columns = df_filtered.select_dtypes(exclude=['number']).columns.tolist()\n",
        "\n",
        "print(\"Numerical Columns:\", numerical_columns)\n",
        "print(\"Categorical Columns:\", categorical_columns)"
      ],
      "metadata": {
        "colab": {
          "base_uri": "https://localhost:8080/"
        },
        "id": "Dm0Oh0x0ea05",
        "outputId": "79a38ffd-df3b-4aaa-82b1-4fa69afcd1f2"
      },
      "execution_count": 22,
      "outputs": [
        {
          "output_type": "stream",
          "name": "stdout",
          "text": [
            "Numerical Columns: ['subject_id', 'hadm_id', 'icustay_id', 'age', 'weight', 'heart_rate', 'systolic_bp', 'diastolic_bp', 'respiratory_rate', 'temperature', 'bicarbonate', 'wbc', 'hemoglobin', 'platelets', 'sodium', 'chloride', 'bun', 'creatinine', 'potassium', 'glucose', 'anion_gap', 'saps_ii', 'oasis', 'sofa', 'infusion_volume', 'creatinine_48hrs', 'creatinine_7days', 'gcs_score']\n",
            "Categorical Columns: ['gender', 'ethnicity', 'dm_type']\n"
          ]
        }
      ]
    },
    {
      "cell_type": "code",
      "source": [
        "from sklearn.impute import KNNImputer\n",
        "import pandas as pd\n",
        "\n",
        "# Ensure df_filtered is a true copy\n",
        "df_filtered = df_filtered.copy()\n",
        "\n",
        "# Initialize the KNN Imputer\n",
        "knn_imputer = KNNImputer(n_neighbors=5)\n",
        "\n",
        "# Impute the columns with missing values\n",
        "imputed_data = knn_imputer.fit_transform(df_filtered[numerical_columns])\n",
        "\n",
        "# Replace the imputed data back into the DataFrame using .loc\n",
        "df_filtered.loc[:, numerical_columns] = imputed_data\n",
        "\n",
        "# Check for missing values after imputation\n",
        "print(\"Missing Values After Imputation:\\n\", df_filtered.isnull().sum())"
      ],
      "metadata": {
        "colab": {
          "base_uri": "https://localhost:8080/"
        },
        "id": "WMHQyxhoegfV",
        "outputId": "462b9cf7-7a72-428d-bc23-6637b83ade7b"
      },
      "execution_count": 23,
      "outputs": [
        {
          "output_type": "stream",
          "name": "stdout",
          "text": [
            "Missing Values After Imputation:\n",
            " subject_id          0\n",
            "hadm_id             0\n",
            "icustay_id          0\n",
            "gender              0\n",
            "age                 0\n",
            "ethnicity           0\n",
            "weight              0\n",
            "dm_type             0\n",
            "heart_rate          0\n",
            "systolic_bp         0\n",
            "diastolic_bp        0\n",
            "respiratory_rate    0\n",
            "temperature         0\n",
            "bicarbonate         0\n",
            "wbc                 0\n",
            "hemoglobin          0\n",
            "platelets           0\n",
            "sodium              0\n",
            "chloride            0\n",
            "bun                 0\n",
            "creatinine          0\n",
            "potassium           0\n",
            "glucose             0\n",
            "anion_gap           0\n",
            "saps_ii             0\n",
            "oasis               0\n",
            "sofa                0\n",
            "infusion_volume     0\n",
            "creatinine_48hrs    0\n",
            "creatinine_7days    0\n",
            "gcs_score           0\n",
            "dtype: int64\n"
          ]
        }
      ]
    },
    {
      "cell_type": "code",
      "source": [
        "# Assuming baseline_creatinine is the minimum value across all available data points\n",
        "df_filtered['baseline_creatinine'] = df_filtered[['creatinine_48hrs', 'creatinine_7days']].min(axis=1)\n",
        "\n",
        "# Initialize the target variable to 0\n",
        "df_filtered['AKI_diagnosis'] = 0\n",
        "\n",
        "# Apply the KDIGO criteria for AKI diagnosis\n",
        "df_filtered['AKI_diagnosis'] = (\n",
        "    (df_filtered['creatinine_48hrs'] - df_filtered['baseline_creatinine'] >= 0.3) |  # 48-hour rule\n",
        "    (df_filtered['creatinine_7days'] >= 1.5 * df_filtered['baseline_creatinine'])   # 7-day rule\n",
        ").astype(int)  # Convert boolean to integer (0 or 1)\n",
        "\n",
        "# Check the results using the correct DataFrame\n",
        "print(\"AKI Diagnosis Distribution:\")\n",
        "print(df_filtered['AKI_diagnosis'].value_counts())\n",
        "\n",
        "# # Save the updated dataset with the target variable\n",
        "# df_filtered.to_csv(\"final_population_with_aki.csv\", index=False)\n",
        "\n",
        "# # Display a few rows to verify\n",
        "# print(df_filtered[['subject_id', 'hadm_id', 'icustay_id', 'baseline_creatinine', 'creatinine_48hrs', 'creatinine_7days', 'AKI_diagnosis']].head())\n"
      ],
      "metadata": {
        "colab": {
          "base_uri": "https://localhost:8080/"
        },
        "id": "M7_mkfH_ekRH",
        "outputId": "ef666374-7ad6-40ce-c43a-02a7970dfbca"
      },
      "execution_count": 24,
      "outputs": [
        {
          "output_type": "stream",
          "name": "stdout",
          "text": [
            "AKI Diagnosis Distribution:\n",
            "AKI_diagnosis\n",
            "0    614\n",
            "1    208\n",
            "Name: count, dtype: int64\n"
          ]
        }
      ]
    },
    {
      "cell_type": "code",
      "source": [
        "print(df_filtered[['creatinine_48hrs', 'creatinine_7days','baseline_creatinine']].isnull().sum())"
      ],
      "metadata": {
        "colab": {
          "base_uri": "https://localhost:8080/"
        },
        "id": "Qdxafz05epGl",
        "outputId": "6f836722-54ea-471c-c93d-a7cdea63ae66"
      },
      "execution_count": 25,
      "outputs": [
        {
          "output_type": "stream",
          "name": "stdout",
          "text": [
            "creatinine_48hrs       0\n",
            "creatinine_7days       0\n",
            "baseline_creatinine    0\n",
            "dtype: int64\n"
          ]
        }
      ]
    },
    {
      "cell_type": "code",
      "source": [
        "# Plot the distribution of AKI Diagnosis\n",
        "df_filtered['AKI_diagnosis'].value_counts().plot(kind='bar', color=['skyblue', 'orange'], figsize=(8, 6))\n",
        "\n",
        "# Add titles and labels\n",
        "plt.title('Distribution of AKI Diagnosis', fontsize=16)\n",
        "plt.xlabel('AKI Diagnosis (0: No, 1: Yes)', fontsize=14)\n",
        "plt.ylabel('Number of Patients', fontsize=14)\n",
        "\n",
        "# Show the plot\n",
        "plt.show()"
      ],
      "metadata": {
        "colab": {
          "base_uri": "https://localhost:8080/",
          "height": 566
        },
        "id": "lEQ80rzTewLt",
        "outputId": "a3e865a5-430c-46b6-e146-f5ce71612513"
      },
      "execution_count": 26,
      "outputs": [
        {
          "output_type": "display_data",
          "data": {
            "text/plain": [
              "<Figure size 800x600 with 1 Axes>"
            ],
            "image/png": "[encoded data removed]"
          },
          "metadata": {}
        }
      ]
    },
    {
      "cell_type": "code",
      "source": [
        "df_filtered.to_csv('HCA_EDA.csv',index=False)"
      ],
      "metadata": {
        "id": "mEkCoCOWezb-"
      },
      "execution_count": 27,
      "outputs": []
    },
    {
      "cell_type": "code",
      "source": [
        "data=df_filtered.copy()"
      ],
      "metadata": {
        "id": "skzszy_Ce248"
      },
      "execution_count": 28,
      "outputs": []
    },
    {
      "cell_type": "code",
      "source": [
        "# 'Data' is the dataset and 'AKI_diagnosis' is the target column\n",
        "X = data.drop(columns=['AKI_diagnosis'])  # Features\n",
        "y = data['AKI_diagnosis']  # Target\n",
        "\n",
        "# Identify non-numeric columns\n",
        "non_numeric_columns = X.select_dtypes(include=['object', 'category']).columns\n",
        "print(\"Non-numeric columns:\", non_numeric_columns)"
      ],
      "metadata": {
        "colab": {
          "base_uri": "https://localhost:8080/"
        },
        "id": "as_4XNkYe6TT",
        "outputId": "b5371684-23c2-49bf-a1fd-9a8625f8fff3"
      },
      "execution_count": 29,
      "outputs": [
        {
          "output_type": "stream",
          "name": "stdout",
          "text": [
            "Non-numeric columns: Index(['gender', 'ethnicity', 'dm_type'], dtype='object')\n"
          ]
        }
      ]
    },
    {
      "cell_type": "code",
      "source": [
        "# Identify and encode non-numeric columns\n",
        "non_numeric_columns = ['gender', 'ethnicity', 'dm_type']\n",
        "X = pd.get_dummies(X, columns=non_numeric_columns, drop_first=False)\n",
        "\n",
        "# Verify one-hot encoding\n",
        "print(\"Columns after one-hot encoding:\", X.columns)"
      ],
      "metadata": {
        "colab": {
          "base_uri": "https://localhost:8080/"
        },
        "id": "dolEJ3y5ftTJ",
        "outputId": "d8217b35-2128-4894-85b3-00512e270197"
      },
      "execution_count": 32,
      "outputs": [
        {
          "output_type": "stream",
          "name": "stdout",
          "text": [
            "Columns after one-hot encoding: Index(['subject_id', 'hadm_id', 'icustay_id', 'age', 'weight', 'heart_rate',\n",
            "       'systolic_bp', 'diastolic_bp', 'respiratory_rate', 'temperature',\n",
            "       'bicarbonate', 'wbc', 'hemoglobin', 'platelets', 'sodium', 'chloride',\n",
            "       'bun', 'creatinine', 'potassium', 'glucose', 'anion_gap', 'saps_ii',\n",
            "       'oasis', 'sofa', 'infusion_volume', 'creatinine_48hrs',\n",
            "       'creatinine_7days', 'gcs_score', 'baseline_creatinine', 'gender_F',\n",
            "       'gender_M', 'ethnicity_ASIAN', 'ethnicity_ASIAN - FILIPINO',\n",
            "       'ethnicity_BLACK/AFRICAN', 'ethnicity_BLACK/AFRICAN AMERICAN',\n",
            "       'ethnicity_BLACK/CAPE VERDEAN', 'ethnicity_BLACK/HAITIAN',\n",
            "       'ethnicity_CARIBBEAN ISLAND', 'ethnicity_HISPANIC OR LATINO',\n",
            "       'ethnicity_HISPANIC/LATINO - CENTRAL AMERICAN (OTHER)',\n",
            "       'ethnicity_HISPANIC/LATINO - GUATEMALAN',\n",
            "       'ethnicity_HISPANIC/LATINO - PUERTO RICAN',\n",
            "       'ethnicity_HISPANIC/LATINO - SALVADORAN',\n",
            "       'ethnicity_MULTI RACE ETHNICITY', 'ethnicity_OTHER',\n",
            "       'ethnicity_PATIENT DECLINED TO ANSWER', 'ethnicity_UNABLE TO OBTAIN',\n",
            "       'ethnicity_UNKNOWN/NOT SPECIFIED', 'ethnicity_WHITE',\n",
            "       'ethnicity_WHITE - BRAZILIAN', 'ethnicity_WHITE - RUSSIAN',\n",
            "       'dm_type_T1DM', 'dm_type_T2DM', 'dm_type_Unknown'],\n",
            "      dtype='object')\n"
          ]
        }
      ]
    },
    {
      "cell_type": "code",
      "source": [
        "from sklearn.model_selection import train_test_split\n",
        "from collections import Counter\n",
        "\n",
        "# Split the data into training and validation sets\n",
        "X_train, X_val, y_train, y_val = train_test_split(X, y, test_size=0.3, random_state=42, stratify=y)\n",
        "\n",
        "# Check the class distribution\n",
        "print(\"Training set class distribution:\", Counter(y_train))\n",
        "print(\"Validation set class distribution:\", Counter(y_val))"
      ],
      "metadata": {
        "colab": {
          "base_uri": "https://localhost:8080/"
        },
        "id": "Xe7BRbcrfa_W",
        "outputId": "6db2d0ce-0191-4440-df00-df63bc95289c"
      },
      "execution_count": 34,
      "outputs": [
        {
          "output_type": "stream",
          "name": "stdout",
          "text": [
            "Training set class distribution: Counter({0: 430, 1: 145})\n",
            "Validation set class distribution: Counter({0: 184, 1: 63})\n"
          ]
        }
      ]
    },
    {
      "cell_type": "code",
      "source": [
        "from imblearn.over_sampling import SMOTE\n",
        "from collections import Counter\n",
        "import pandas as pd\n",
        "\n",
        "# Apply SMOTE to oversample the minority class\n",
        "smote = SMOTE(random_state=42)\n",
        "X_train_resampled, y_train_resampled = smote.fit_resample(X_train, y_train)\n",
        "\n",
        "# Check the class distribution\n",
        "print(\"Training set class distribution after SMOTE:\", Counter(y_train_resampled))\n",
        "print(\"Resampled training set shape:\", X_train_resampled.shape)\n",
        "\n",
        "# Convert resampled data to DataFrame (if not already)\n",
        "X_train_resampled = pd.DataFrame(X_train_resampled, columns=X_train.columns)"
      ],
      "metadata": {
        "colab": {
          "base_uri": "https://localhost:8080/"
        },
        "id": "IoRDyVfHfL65",
        "outputId": "1afb238c-5def-4254-e620-537415a29851"
      },
      "execution_count": 35,
      "outputs": [
        {
          "output_type": "stream",
          "name": "stdout",
          "text": [
            "Training set class distribution after SMOTE: Counter({0: 430, 1: 430})\n",
            "Resampled training set shape: (860, 54)\n"
          ]
        }
      ]
    },
    {
      "cell_type": "code",
      "source": [
        "from collections import Counter\n",
        "print(\"Before SMOTE:\", Counter(y_train))\n",
        "print(\"After SMOTE:\", Counter(y_train_resampled))"
      ],
      "metadata": {
        "colab": {
          "base_uri": "https://localhost:8080/"
        },
        "id": "V8QCjVcwfr3z",
        "outputId": "c6417aed-f692-4d59-acff-a30916906127"
      },
      "execution_count": 36,
      "outputs": [
        {
          "output_type": "stream",
          "name": "stdout",
          "text": [
            "Before SMOTE: Counter({0: 430, 1: 145})\n",
            "After SMOTE: Counter({0: 430, 1: 430})\n"
          ]
        }
      ]
    },
    {
      "cell_type": "code",
      "source": [
        "# Convert boolean columns to integers\n",
        "X_train_resampled = X_train_resampled.astype(\n",
        "    {col: 'int' for col in X_train_resampled.select_dtypes(include=['bool']).columns}\n",
        ")\n",
        "\n",
        "# Verify the updated data types\n",
        "print(\"Updated data types in X_train_resampled:\")\n",
        "print(X_train_resampled.dtypes)"
      ],
      "metadata": {
        "colab": {
          "base_uri": "https://localhost:8080/"
        },
        "id": "kTbi1kOXfd5w",
        "outputId": "19b9a8d3-13a0-4b85-8dae-5ed030f5880f"
      },
      "execution_count": 37,
      "outputs": [
        {
          "output_type": "stream",
          "name": "stdout",
          "text": [
            "Updated data types in X_train_resampled:\n",
            "subject_id                                                int64\n",
            "hadm_id                                                   int64\n",
            "icustay_id                                                int64\n",
            "age                                                       int64\n",
            "weight                                                  float64\n",
            "heart_rate                                              float64\n",
            "systolic_bp                                             float64\n",
            "diastolic_bp                                            float64\n",
            "respiratory_rate                                        float64\n",
            "temperature                                             float64\n",
            "bicarbonate                                             float64\n",
            "wbc                                                     float64\n",
            "hemoglobin                                              float64\n",
            "platelets                                               float64\n",
            "sodium                                                  float64\n",
            "chloride                                                float64\n",
            "bun                                                     float64\n",
            "creatinine                                              float64\n",
            "potassium                                               float64\n",
            "glucose                                                 float64\n",
            "anion_gap                                               float64\n",
            "saps_ii                                                   int64\n",
            "oasis                                                     int64\n",
            "sofa                                                      int64\n",
            "infusion_volume                                         float64\n",
            "creatinine_48hrs                                        float64\n",
            "creatinine_7days                                        float64\n",
            "gcs_score                                               float64\n",
            "baseline_creatinine                                     float64\n",
            "gender_F                                                  int64\n",
            "gender_M                                                  int64\n",
            "ethnicity_ASIAN                                           int64\n",
            "ethnicity_ASIAN - FILIPINO                                int64\n",
            "ethnicity_BLACK/AFRICAN                                   int64\n",
            "ethnicity_BLACK/AFRICAN AMERICAN                          int64\n",
            "ethnicity_BLACK/CAPE VERDEAN                              int64\n",
            "ethnicity_BLACK/HAITIAN                                   int64\n",
            "ethnicity_CARIBBEAN ISLAND                                int64\n",
            "ethnicity_HISPANIC OR LATINO                              int64\n",
            "ethnicity_HISPANIC/LATINO - CENTRAL AMERICAN (OTHER)      int64\n",
            "ethnicity_HISPANIC/LATINO - GUATEMALAN                    int64\n",
            "ethnicity_HISPANIC/LATINO - PUERTO RICAN                  int64\n",
            "ethnicity_HISPANIC/LATINO - SALVADORAN                    int64\n",
            "ethnicity_MULTI RACE ETHNICITY                            int64\n",
            "ethnicity_OTHER                                           int64\n",
            "ethnicity_PATIENT DECLINED TO ANSWER                      int64\n",
            "ethnicity_UNABLE TO OBTAIN                                int64\n",
            "ethnicity_UNKNOWN/NOT SPECIFIED                           int64\n",
            "ethnicity_WHITE                                           int64\n",
            "ethnicity_WHITE - BRAZILIAN                               int64\n",
            "ethnicity_WHITE - RUSSIAN                                 int64\n",
            "dm_type_T1DM                                              int64\n",
            "dm_type_T2DM                                              int64\n",
            "dm_type_Unknown                                           int64\n",
            "dtype: object\n"
          ]
        }
      ]
    },
    {
      "cell_type": "code",
      "source": [
        "from sklearn.preprocessing import StandardScaler\n",
        "\n",
        "# Standardize the features\n",
        "scaler = StandardScaler()\n",
        "X_train_scaled = scaler.fit_transform(X_train_resampled)\n",
        "\n",
        "# Convert the scaled data back to a DataFrame (optional, for easier handling)\n",
        "X_train_scaled = pd.DataFrame(X_train_scaled, columns=X_train_resampled.columns)"
      ],
      "metadata": {
        "id": "Csxfw1Gvgc4i"
      },
      "execution_count": 38,
      "outputs": []
    },
    {
      "cell_type": "code",
      "source": [
        "from sklearn.linear_model import LogisticRegression\n",
        "\n",
        "# Apply LASSO regression\n",
        "lasso = LogisticRegression(penalty='l1', solver='liblinear', random_state=42, max_iter=1000)\n",
        "lasso.fit(X_train_scaled, y_train_resampled)\n",
        "\n",
        "# Identify the selected features (non-zero coefficients)\n",
        "selected_features_mask = lasso.coef_[0] != 0\n",
        "selected_features = X_train_resampled.columns[selected_features_mask]\n",
        "print(\"Selected features from LASSO regression:\", selected_features.tolist())"
      ],
      "metadata": {
        "colab": {
          "base_uri": "https://localhost:8080/"
        },
        "id": "j0z2MUHpgtC7",
        "outputId": "9565a6b1-fe8f-4e1f-b8b8-e5a2897eff05"
      },
      "execution_count": 40,
      "outputs": [
        {
          "output_type": "stream",
          "name": "stdout",
          "text": [
            "Selected features from LASSO regression: ['subject_id', 'age', 'heart_rate', 'systolic_bp', 'diastolic_bp', 'temperature', 'bicarbonate', 'wbc', 'hemoglobin', 'platelets', 'sodium', 'chloride', 'bun', 'potassium', 'glucose', 'anion_gap', 'saps_ii', 'oasis', 'sofa', 'infusion_volume', 'creatinine_48hrs', 'creatinine_7days', 'gcs_score', 'baseline_creatinine', 'gender_F', 'gender_M', 'ethnicity_ASIAN', 'ethnicity_BLACK/AFRICAN AMERICAN', 'ethnicity_HISPANIC OR LATINO', 'ethnicity_HISPANIC/LATINO - GUATEMALAN', 'ethnicity_HISPANIC/LATINO - PUERTO RICAN', 'ethnicity_OTHER', 'ethnicity_UNABLE TO OBTAIN', 'ethnicity_UNKNOWN/NOT SPECIFIED', 'ethnicity_WHITE', 'ethnicity_WHITE - RUSSIAN', 'dm_type_T1DM', 'dm_type_T2DM', 'dm_type_Unknown']\n"
          ]
        }
      ]
    },
    {
      "cell_type": "code",
      "source": [
        "from statsmodels.api import Logit\n",
        "\n",
        "# Subset the data with LASSO-selected features\n",
        "X_train_selected_lasso = X_train_resampled[selected_features]\n",
        "\n",
        "# Fit logistic regression with the selected features\n",
        "logit_model = Logit(y_train_resampled, X_train_selected_lasso).fit()\n",
        "print(logit_model.summary())"
      ],
      "metadata": {
        "colab": {
          "base_uri": "https://localhost:8080/"
        },
        "id": "P4tQ4og1gw0T",
        "outputId": "570adca9-2f1f-440c-a23d-895c3708bb1b"
      },
      "execution_count": 41,
      "outputs": [
        {
          "output_type": "stream",
          "name": "stdout",
          "text": [
            "Warning: Maximum number of iterations has been exceeded.\n",
            "         Current function value: 0.082928\n",
            "         Iterations: 35\n",
            "                           Logit Regression Results                           \n",
            "==============================================================================\n",
            "Dep. Variable:          AKI_diagnosis   No. Observations:                  860\n",
            "Model:                          Logit   Df Residuals:                      821\n",
            "Method:                           MLE   Df Model:                           38\n",
            "Date:                Tue, 03 Dec 2024   Pseudo R-squ.:                  0.8804\n",
            "Time:                        03:16:16   Log-Likelihood:                -71.318\n",
            "converged:                      False   LL-Null:                       -596.11\n",
            "Covariance Type:            nonrobust   LLR p-value:                1.802e-195\n",
            "============================================================================================================\n",
            "                                               coef    std err          z      P>|z|      [0.025      0.975]\n",
            "------------------------------------------------------------------------------------------------------------\n",
            "subject_id                                1.043e-05   8.95e-06      1.165      0.244   -7.11e-06     2.8e-05\n",
            "age                                         -0.0299      0.012     -2.481      0.013      -0.054      -0.006\n",
            "heart_rate                                   0.0501      0.025      1.994      0.046       0.001       0.099\n",
            "systolic_bp                                 -0.0208      0.020     -1.055      0.291      -0.059       0.018\n",
            "diastolic_bp                                -0.0517      0.036     -1.431      0.152      -0.123       0.019\n",
            "temperature                                 -0.5208      0.289     -1.805      0.071      -1.086       0.045\n",
            "bicarbonate                                 -0.0071      0.052     -0.137      0.891      -0.109       0.095\n",
            "wbc                                         -0.0855      0.047     -1.814      0.070      -0.178       0.007\n",
            "hemoglobin                                   0.0166      0.139      0.119      0.905      -0.256       0.289\n",
            "platelets                                    0.0032      0.003      1.136      0.256      -0.002       0.009\n",
            "sodium                                      -0.0040      0.055     -0.073      0.942      -0.112       0.104\n",
            "chloride                                     0.0289      0.037      0.782      0.434      -0.044       0.101\n",
            "bun                                          0.0215      0.022      0.990      0.322      -0.021       0.064\n",
            "potassium                                    0.0645      0.588      0.110      0.913      -1.088       1.217\n",
            "glucose                                      0.0071      0.004      1.616      0.106      -0.002       0.016\n",
            "anion_gap                                    0.0363      0.118      0.307      0.759      -0.196       0.269\n",
            "saps_ii                                     -0.0022      0.042     -0.052      0.958      -0.084       0.080\n",
            "oasis                                       -0.0334      0.063     -0.529      0.597      -0.157       0.090\n",
            "sofa                                        -0.0658      0.175     -0.377      0.706      -0.408       0.276\n",
            "infusion_volume                          -1.597e-05   1.45e-05     -1.104      0.269   -4.43e-05    1.24e-05\n",
            "creatinine_48hrs                            29.6530      4.103      7.228      0.000      21.612      37.694\n",
            "creatinine_7days                            10.6373      1.473      7.222      0.000       7.750      13.524\n",
            "gcs_score                                   -0.0098      0.009     -1.054      0.292      -0.028       0.008\n",
            "baseline_creatinine                        -41.0831      5.438     -7.555      0.000     -51.741     -30.425\n",
            "gender_F                                     3.3533      4.847      0.692      0.489      -6.146      12.853\n",
            "gender_M                                     4.0695      4.858      0.838      0.402      -5.453      13.592\n",
            "ethnicity_ASIAN                              9.5724      5.130      1.866      0.062      -0.482      19.627\n",
            "ethnicity_BLACK/AFRICAN AMERICAN             6.0176      4.823      1.248      0.212      -3.436      15.471\n",
            "ethnicity_HISPANIC OR LATINO                 4.5115      5.003      0.902      0.367      -5.295      14.318\n",
            "ethnicity_HISPANIC/LATINO - GUATEMALAN       9.7907      5.453      1.795      0.073      -0.898      20.479\n",
            "ethnicity_HISPANIC/LATINO - PUERTO RICAN     5.3603     14.661      0.366      0.715     -23.375      34.096\n",
            "ethnicity_OTHER                              7.0925      4.961      1.430      0.153      -2.631      16.816\n",
            "ethnicity_UNABLE TO OBTAIN                   6.1157      5.107      1.198      0.231      -3.893      16.125\n",
            "ethnicity_UNKNOWN/NOT SPECIFIED              6.7676      4.953      1.366      0.172      -2.941      16.476\n",
            "ethnicity_WHITE                              5.4550      4.852      1.124      0.261      -4.054      14.964\n",
            "ethnicity_WHITE - RUSSIAN                   37.4271   3.32e+06   1.13e-05      1.000    -6.5e+06     6.5e+06\n",
            "dm_type_T1DM                                 3.4396      4.900      0.702      0.483      -6.164      13.044\n",
            "dm_type_T2DM                                 3.7208      4.929      0.755      0.450      -5.939      13.381\n",
            "dm_type_Unknown                              2.9350      4.864      0.603      0.546      -6.598      12.468\n",
            "============================================================================================================\n",
            "\n",
            "Possibly complete quasi-separation: A fraction 0.39 of observations can be\n",
            "perfectly predicted. This might indicate that there is complete\n",
            "quasi-separation. In this case some parameters will not be identified.\n"
          ]
        },
        {
          "output_type": "stream",
          "name": "stderr",
          "text": [
            "/usr/local/lib/python3.10/dist-packages/statsmodels/base/model.py:607: ConvergenceWarning: Maximum Likelihood optimization failed to converge. Check mle_retvals\n",
            "  warnings.warn(\"Maximum Likelihood optimization failed to \"\n"
          ]
        }
      ]
    },
    {
      "cell_type": "code",
      "source": [
        "# Extract features with P < 0.1\n",
        "significant_features = logit_model.pvalues[logit_model.pvalues < 0.1].index.tolist()\n",
        "if 'const' in significant_features:  # Remove the constant term if present\n",
        "    significant_features.remove('const')\n",
        "\n",
        "print(\"Significant features (P < 0.1):\", significant_features)"
      ],
      "metadata": {
        "colab": {
          "base_uri": "https://localhost:8080/"
        },
        "id": "cMpcsxP5hLJl",
        "outputId": "8642517e-63a8-4696-e0df-227ace044a07"
      },
      "execution_count": 42,
      "outputs": [
        {
          "output_type": "stream",
          "name": "stdout",
          "text": [
            "Significant features (P < 0.1): ['age', 'heart_rate', 'temperature', 'wbc', 'creatinine_48hrs', 'creatinine_7days', 'baseline_creatinine', 'ethnicity_ASIAN', 'ethnicity_HISPANIC/LATINO - GUATEMALAN']\n"
          ]
        }
      ]
    },
    {
      "source": [
        "from sklearn.linear_model import LogisticRegression\n",
        "from sklearn.metrics import accuracy_score, confusion_matrix, classification_report\n",
        "\n",
        "# Creating and fitting the logistic regression model\n",
        "logistic_model = LogisticRegression()\n",
        "logistic_model.fit(X_train_selected_lasso, y_train_resampled)\n",
        "\n",
        "# Instead of selecting features from X_val using significant_features,\n",
        "# select the columns that were used to train the model:\n",
        "X_val_selected = X_val[X_train_selected_lasso.columns]\n",
        "\n",
        "# Making predictions using the selected features\n",
        "y_pred = logistic_model.predict(X_val_selected)\n",
        "\n",
        "# Evaluating the model\n",
        "accuracy = accuracy_score(y_val, y_pred)\n",
        "conf_matrix = confusion_matrix(y_val, y_pred)\n",
        "class_report = classification_report(y_val, y_pred)\n",
        "\n",
        "# Output results\n",
        "print(f\"Accuracy: {accuracy}\")\n",
        "print(\"Confusion Matrix:\")\n",
        "print(conf_matrix)\n",
        "print(\"Classification Report:\")\n",
        "print(class_report)"
      ],
      "cell_type": "code",
      "metadata": {
        "colab": {
          "base_uri": "https://localhost:8080/"
        },
        "id": "xbcHJidqivAy",
        "outputId": "9a8c29c7-c9d6-42f7-a9f5-c47aa3246e83"
      },
      "execution_count": 46,
      "outputs": [
        {
          "output_type": "stream",
          "name": "stdout",
          "text": [
            "Accuracy: 0.7206477732793523\n",
            "Confusion Matrix:\n",
            "[[145  39]\n",
            " [ 30  33]]\n",
            "Classification Report:\n",
            "              precision    recall  f1-score   support\n",
            "\n",
            "           0       0.83      0.79      0.81       184\n",
            "           1       0.46      0.52      0.49        63\n",
            "\n",
            "    accuracy                           0.72       247\n",
            "   macro avg       0.64      0.66      0.65       247\n",
            "weighted avg       0.73      0.72      0.73       247\n",
            "\n"
          ]
        },
        {
          "output_type": "stream",
          "name": "stderr",
          "text": [
            "/usr/local/lib/python3.10/dist-packages/sklearn/linear_model/_logistic.py:469: ConvergenceWarning: lbfgs failed to converge (status=1):\n",
            "STOP: TOTAL NO. of ITERATIONS REACHED LIMIT.\n",
            "\n",
            "Increase the number of iterations (max_iter) or scale the data as shown in:\n",
            "    https://scikit-learn.org/stable/modules/preprocessing.html\n",
            "Please also refer to the documentation for alternative solver options:\n",
            "    https://scikit-learn.org/stable/modules/linear_model.html#logistic-regression\n",
            "  n_iter_i = _check_optimize_result(\n"
          ]
        }
      ]
    },
    {
      "cell_type": "code",
      "source": [
        "from sklearn.metrics import roc_curve, roc_auc_score, auc\n",
        "import matplotlib.pyplot as plt\n",
        "\n",
        "# Predicting probabilities for the positive class\n",
        "y_probs = logistic_model.predict_proba(X_val_selected)[:, 1]\n",
        "\n",
        "# Calculating AUC-ROC\n",
        "fpr, tpr, thresholds = roc_curve(y_val, y_probs)\n",
        "roc_auc = auc(fpr, tpr)\n",
        "\n",
        "# Plotting the AUC-ROC curve\n",
        "plt.figure(figsize=(8, 6))\n",
        "plt.plot(fpr, tpr, color='blue', lw=2, label=f'AUC = {roc_auc:.2f}')\n",
        "plt.plot([0, 1], [0, 1], color='red', linestyle='--', label='Random Chance')\n",
        "plt.xlabel('False Positive Rate')\n",
        "plt.ylabel('True Positive Rate')\n",
        "plt.title('Receiver Operating Characteristic (ROC) Curve')\n",
        "plt.legend(loc=\"lower right\")\n",
        "plt.grid()\n",
        "plt.show()"
      ],
      "metadata": {
        "colab": {
          "base_uri": "https://localhost:8080/",
          "height": 564
        },
        "id": "r_XlgWWdkzsS",
        "outputId": "6c486cad-dd3d-4e70-cb55-c543fdbdd2ff"
      },
      "execution_count": 49,
      "outputs": [
        {
          "output_type": "display_data",
          "data": {
            "text/plain": [
              "<Figure size 800x600 with 1 Axes>"
            ],
            "image/png": "[encoded data removed]"
          },
          "metadata": {}
        }
      ]
    },
    {
      "cell_type": "code",
      "source": [
        "from sklearn.model_selection import train_test_split\n",
        "from sklearn.ensemble import RandomForestClassifier\n",
        "from sklearn.metrics import accuracy_score, confusion_matrix, classification_report\n",
        "\n",
        "# Creating and fitting the Random Forest model\n",
        "random_forest_model = RandomForestClassifier(n_estimators=100, random_state=42)\n",
        "random_forest_model.fit(X_train_selected_lasso, y_train_resampled)\n",
        "\n",
        "# Making predictions\n",
        "y_pred = random_forest_model.predict(X_val_selected)\n",
        "\n",
        "# Evaluating the model\n",
        "accuracy = accuracy_score(y_val, y_pred)\n",
        "conf_matrix = confusion_matrix(y_val, y_pred)\n",
        "class_report = classification_report(y_val, y_pred)\n",
        "\n",
        "# Output results\n",
        "print(f\"Accuracy: {accuracy}\")\n",
        "print(\"Confusion Matrix:\")\n",
        "print(conf_matrix)\n",
        "print(\"Classification Report:\")\n",
        "print(class_report)\n"
      ],
      "metadata": {
        "colab": {
          "base_uri": "https://localhost:8080/"
        },
        "id": "vLmRmQuTiL_r",
        "outputId": "ad1e3d86-697d-4360-c437-4027bcf33ed5"
      },
      "execution_count": 47,
      "outputs": [
        {
          "output_type": "stream",
          "name": "stdout",
          "text": [
            "Accuracy: 0.8340080971659919\n",
            "Confusion Matrix:\n",
            "[[160  24]\n",
            " [ 17  46]]\n",
            "Classification Report:\n",
            "              precision    recall  f1-score   support\n",
            "\n",
            "           0       0.90      0.87      0.89       184\n",
            "           1       0.66      0.73      0.69        63\n",
            "\n",
            "    accuracy                           0.83       247\n",
            "   macro avg       0.78      0.80      0.79       247\n",
            "weighted avg       0.84      0.83      0.84       247\n",
            "\n"
          ]
        }
      ]
    },
    {
      "cell_type": "code",
      "source": [
        "from sklearn.metrics import roc_curve, roc_auc_score, auc\n",
        "import matplotlib.pyplot as plt\n",
        "\n",
        "# Predicting probabilities for the positive class\n",
        "y_probs = random_forest_model.predict_proba(X_val_selected)[:, 1]\n",
        "\n",
        "# Calculating AUC-ROC\n",
        "fpr, tpr, thresholds = roc_curve(y_val, y_probs)\n",
        "roc_auc = auc(fpr, tpr)\n",
        "\n",
        "# Plotting the AUC-ROC curve\n",
        "plt.figure(figsize=(8, 6))\n",
        "plt.plot(fpr, tpr, color='blue', lw=2, label=f'AUC = {roc_auc:.2f}')\n",
        "plt.plot([0, 1], [0, 1], color='red', linestyle='--', label='Random Chance')\n",
        "plt.xlabel('False Positive Rate')\n",
        "plt.ylabel('True Positive Rate')\n",
        "plt.title('Receiver Operating Characteristic (ROC) Curve')\n",
        "plt.legend(loc=\"lower right\")\n",
        "plt.grid()\n",
        "plt.show()"
      ],
      "metadata": {
        "colab": {
          "base_uri": "https://localhost:8080/",
          "height": 564
        },
        "id": "fw34cHgljVFl",
        "outputId": "1e572e37-f447-4248-c074-ca02c708431b"
      },
      "execution_count": 48,
      "outputs": [
        {
          "output_type": "display_data",
          "data": {
            "text/plain": [
              "<Figure size 800x600 with 1 Axes>"
            ],
            "image/png": "[encoded data removed]"
          },
          "metadata": {}
        }
      ]
    },
    {
      "cell_type": "code",
      "source": [
        "from sklearn.calibration import calibration_curve\n",
        "import matplotlib.pyplot as plt\n",
        "\n",
        "# Predicting probabilities for the positive class\n",
        "y_probs = logistic_model.predict_proba(X_val_selected)[:, 1]\n",
        "\n",
        "# Compute calibration curve\n",
        "prob_true, prob_pred = calibration_curve(y_val, y_probs, n_bins=10, strategy='uniform')\n",
        "\n",
        "# Plotting the calibration plot\n",
        "plt.figure(figsize=(8, 6))\n",
        "plt.plot(prob_pred, prob_true, marker='o', label='Logistic Regression', color='blue')\n",
        "plt.plot([0, 1], [0, 1], linestyle='--', color='red', label='Perfect Calibration')\n",
        "plt.xlabel('Mean Predicted Probability')\n",
        "plt.ylabel('Fraction of Positives')\n",
        "plt.title('Calibration Plot')\n",
        "plt.legend(loc='best')\n",
        "plt.grid()\n",
        "plt.show()\n"
      ],
      "metadata": {
        "colab": {
          "base_uri": "https://localhost:8080/",
          "height": 564
        },
        "id": "IfA0iHCFko-u",
        "outputId": "66b4fed4-84e4-495d-e0fe-7a94a32e6d3d"
      },
      "execution_count": 50,
      "outputs": [
        {
          "output_type": "display_data",
          "data": {
            "text/plain": [
              "<Figure size 800x600 with 1 Axes>"
            ],
            "image/png": "[encoded data removed]"
          },
          "metadata": {}
        }
      ]
    },
    {
      "cell_type": "code",
      "source": [
        "from sklearn.calibration import calibration_curve\n",
        "import matplotlib.pyplot as plt\n",
        "\n",
        "# Predicting probabilities for the positive class\n",
        "y_probs = random_forest_model.predict_proba(X_val_selected)[:, 1]\n",
        "\n",
        "# Compute calibration curve\n",
        "prob_true, prob_pred = calibration_curve(y_val, y_probs, n_bins=10, strategy='uniform')\n",
        "\n",
        "# Plotting the calibration plot\n",
        "plt.figure(figsize=(8, 6))\n",
        "plt.plot(prob_pred, prob_true, marker='o', label='Logistic Regression', color='blue')\n",
        "plt.plot([0, 1], [0, 1], linestyle='--', color='red', label='Perfect Calibration')\n",
        "plt.xlabel('Mean Predicted Probability')\n",
        "plt.ylabel('Fraction of Positives')\n",
        "plt.title('Calibration Plot')\n",
        "plt.legend(loc='best')\n",
        "plt.grid()\n",
        "plt.show()"
      ],
      "metadata": {
        "colab": {
          "base_uri": "https://localhost:8080/",
          "height": 564
        },
        "id": "V3xF7hAQlS-K",
        "outputId": "aa77cc15-403c-44af-edd8-9775427c0fda"
      },
      "execution_count": 51,
      "outputs": [
        {
          "output_type": "display_data",
          "data": {
            "text/plain": [
              "<Figure size 800x600 with 1 Axes>"
            ],
            "image/png": "[encoded data removed]"
          },
          "metadata": {}
        }
      ]
    },
    {
      "cell_type": "code",
      "source": [],
      "metadata": {
        "id": "I2DCg6Rvlm62"
      },
      "execution_count": null,
      "outputs": []
    }
  ]
}